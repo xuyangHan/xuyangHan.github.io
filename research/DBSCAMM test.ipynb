{
 "cells": [
  {
   "cell_type": "code",
   "execution_count": 1,
   "metadata": {},
   "outputs": [],
   "source": [
    "import numpy as np \n",
    "from sklearn.cluster import DBSCAN\n",
    "from sklearn.preprocessing import StandardScaler\n",
    "import matplotlib\n",
    "import matplotlib.pyplot as plt\n",
    "import pandas as pd\n",
    "import sklearn.utils\n",
    "import random"
   ]
  },
  {
   "cell_type": "code",
   "execution_count": 2,
   "metadata": {},
   "outputs": [
    {
     "data": {
      "text/plain": [
       "(233, 19)"
      ]
     },
     "execution_count": 2,
     "metadata": {},
     "output_type": "execute_result"
    }
   ],
   "source": [
    "# #############################################################################\n",
    "# Read data & generate checked points for each label \n",
    "file_url = 'result2.csv'\n",
    "df = pd.read_csv(file_url)\n",
    "df_G_0 = df[df['label']==0]\n",
    "df_G_0.shape"
   ]
  },
  {
   "cell_type": "code",
   "execution_count": 3,
   "metadata": {},
   "outputs": [
    {
     "data": {
      "text/plain": [
       "23"
      ]
     },
     "execution_count": 3,
     "metadata": {},
     "output_type": "execute_result"
    }
   ],
   "source": [
    "df_G_0.shape[0]//10"
   ]
  },
  {
   "cell_type": "code",
   "execution_count": 4,
   "metadata": {},
   "outputs": [],
   "source": [
    "df_G_0_Checked = random.sample(range(df_G_0.shape[0]), max(df_G_0.shape[0]//10,20))"
   ]
  },
  {
   "cell_type": "code",
   "execution_count": 5,
   "metadata": {},
   "outputs": [
    {
     "data": {
      "text/plain": [
       "(635, 19)"
      ]
     },
     "execution_count": 5,
     "metadata": {},
     "output_type": "execute_result"
    }
   ],
   "source": [
    "df_G_1 = df[df['label']==1]\n",
    "df_G_1.shape"
   ]
  },
  {
   "cell_type": "code",
   "execution_count": 6,
   "metadata": {},
   "outputs": [],
   "source": [
    "df_G_1_Checked = random.sample(range(df_G_1.shape[0]), max(df_G_1.shape[0]//10,20))"
   ]
  },
  {
   "cell_type": "code",
   "execution_count": 7,
   "metadata": {},
   "outputs": [
    {
     "data": {
      "text/plain": [
       "(606, 19)"
      ]
     },
     "execution_count": 7,
     "metadata": {},
     "output_type": "execute_result"
    }
   ],
   "source": [
    "df_G_2 = df[df['label']==2]\n",
    "df_G_2_Checked = random.sample(range(df_G_2.shape[0]), max(df_G_2.shape[0]//10,20))\n",
    "df_G_2.shape"
   ]
  },
  {
   "cell_type": "code",
   "execution_count": 8,
   "metadata": {},
   "outputs": [
    {
     "data": {
      "text/plain": [
       "(87, 19)"
      ]
     },
     "execution_count": 8,
     "metadata": {},
     "output_type": "execute_result"
    }
   ],
   "source": [
    "df_G_3 = df[df['label']==3]\n",
    "df_G_3_Checked = random.sample(range(df_G_3.shape[0]), max(df_G_3.shape[0]//10,20))\n",
    "df_G_3.shape"
   ]
  },
  {
   "cell_type": "code",
   "execution_count": null,
   "metadata": {},
   "outputs": [],
   "source": []
  },
  {
   "cell_type": "code",
   "execution_count": 9,
   "metadata": {},
   "outputs": [
    {
     "data": {
      "text/plain": [
       "(37, 19)"
      ]
     },
     "execution_count": 9,
     "metadata": {},
     "output_type": "execute_result"
    }
   ],
   "source": [
    "df_G_n1 = df[df['label']==-1]\n",
    "df_G_n1_Checked = random.sample(range(df_G_n1.shape[0]), max(df_G_n1.shape[0]//10,20))\n",
    "df_G_n1.shape"
   ]
  },
  {
   "cell_type": "code",
   "execution_count": 10,
   "metadata": {},
   "outputs": [
    {
     "data": {
      "text/plain": [
       "(1598, 19)"
      ]
     },
     "execution_count": 10,
     "metadata": {},
     "output_type": "execute_result"
    }
   ],
   "source": [
    "df.shape"
   ]
  },
  {
   "cell_type": "code",
   "execution_count": 11,
   "metadata": {},
   "outputs": [
    {
     "data": {
      "text/plain": [
       "1598"
      ]
     },
     "execution_count": 11,
     "metadata": {},
     "output_type": "execute_result"
    }
   ],
   "source": [
    "df_G_0.shape[0] + df_G_1.shape[0] + df_G_2.shape[0] + df_G_3.shape[0] + df_G_n1.shape[0]"
   ]
  },
  {
   "cell_type": "code",
   "execution_count": 13,
   "metadata": {},
   "outputs": [
    {
     "data": {
      "text/plain": [
       "(23, 63, 60, 20, 20)"
      ]
     },
     "execution_count": 13,
     "metadata": {},
     "output_type": "execute_result"
    }
   ],
   "source": [
    "len(df_G_0_Checked), len(df_G_1_Checked),len(df_G_2_Checked), len(df_G_3_Checked), len(df_G_n1_Checked)"
   ]
  },
  {
   "cell_type": "code",
   "execution_count": 14,
   "metadata": {},
   "outputs": [],
   "source": [
    "df_G_0_Checked_points = df_G_0.iloc[df_G_0_Checked]\n",
    "df_G_1_Checked_points = df_G_1.iloc[df_G_1_Checked]\n",
    "df_G_2_Checked_points = df_G_2.iloc[df_G_2_Checked]\n",
    "df_G_3_Checked_points = df_G_3.iloc[df_G_3_Checked]\n",
    "df_G_n1_Checked_points = df_G_n1.iloc[df_G_n1_Checked]"
   ]
  },
  {
   "cell_type": "code",
   "execution_count": 16,
   "metadata": {},
   "outputs": [
    {
     "data": {
      "text/plain": [
       "(23, 63, 60, 20, 20)"
      ]
     },
     "execution_count": 16,
     "metadata": {},
     "output_type": "execute_result"
    }
   ],
   "source": [
    "df_G_0_Checked_points.shape[0], df_G_1_Checked_points.shape[0], df_G_2_Checked_points.shape[0], df_G_3_Checked_points.shape[0], df_G_n1_Checked_points.shape[0]"
   ]
  },
  {
   "cell_type": "code",
   "execution_count": 17,
   "metadata": {},
   "outputs": [],
   "source": [
    "df_G_0_Checked_points.to_csv('Cross_df_G_0_Checked_points.csv')\n",
    "df_G_1_Checked_points.to_csv('Cross_df_G_1_Checked_points.csv')\n",
    "df_G_2_Checked_points.to_csv('Cross_df_G_2_Checked_points.csv')\n",
    "df_G_3_Checked_points.to_csv('Cross_df_G_3_Checked_points.csv')"
   ]
  },
  {
   "cell_type": "code",
   "execution_count": 18,
   "metadata": {},
   "outputs": [],
   "source": [
    "df_G_n1_Checked_points = df_G_n1_Checked_points[df_G_n1_Checked_points[\"LON\"]<-76.47]\n",
    "df_G_n1_Checked_points = df_G_n1_Checked_points[df_G_n1_Checked_points[\"LAT\"]<44.231]\n",
    "df_G_n1_Checked_points.to_csv('Cross_df_G_n1_Checked_points.csv')"
   ]
  },
  {
   "cell_type": "code",
   "execution_count": null,
   "metadata": {},
   "outputs": [],
   "source": []
  },
  {
   "cell_type": "code",
   "execution_count": 152,
   "metadata": {},
   "outputs": [
    {
     "data": {
      "text/html": [
       "<div>\n",
       "<style scoped>\n",
       "    .dataframe tbody tr th:only-of-type {\n",
       "        vertical-align: middle;\n",
       "    }\n",
       "\n",
       "    .dataframe tbody tr th {\n",
       "        vertical-align: top;\n",
       "    }\n",
       "\n",
       "    .dataframe thead th {\n",
       "        text-align: right;\n",
       "    }\n",
       "</style>\n",
       "<table border=\"1\" class=\"dataframe\">\n",
       "  <thead>\n",
       "    <tr style=\"text-align: right;\">\n",
       "      <th></th>\n",
       "      <th>Unnamed: 0</th>\n",
       "      <th>MMSI</th>\n",
       "      <th>BaseDateTime</th>\n",
       "      <th>LAT</th>\n",
       "      <th>LON</th>\n",
       "      <th>SOG</th>\n",
       "      <th>COG</th>\n",
       "      <th>Heading</th>\n",
       "      <th>VesselName</th>\n",
       "      <th>IMO</th>\n",
       "      <th>CallSign</th>\n",
       "      <th>VesselType</th>\n",
       "      <th>Status</th>\n",
       "      <th>Length</th>\n",
       "      <th>Width</th>\n",
       "      <th>Draft</th>\n",
       "      <th>Cargo</th>\n",
       "      <th>label</th>\n",
       "    </tr>\n",
       "  </thead>\n",
       "  <tbody>\n",
       "    <tr>\n",
       "      <th>1514</th>\n",
       "      <td>1832</td>\n",
       "      <td>316013007</td>\n",
       "      <td>2017-01-29T14:12:31</td>\n",
       "      <td>44.22069</td>\n",
       "      <td>-76.46081</td>\n",
       "      <td>-0.1</td>\n",
       "      <td>-49.6</td>\n",
       "      <td>99.0</td>\n",
       "      <td>WOLFE ISLANDER III</td>\n",
       "      <td>IMO7423079</td>\n",
       "      <td>VA3418</td>\n",
       "      <td>WOLFE ISLANDER III</td>\n",
       "      <td>under way using engine</td>\n",
       "      <td>62.49</td>\n",
       "      <td>20.27</td>\n",
       "      <td>2.3</td>\n",
       "      <td>60</td>\n",
       "      <td>0</td>\n",
       "    </tr>\n",
       "  </tbody>\n",
       "</table>\n",
       "</div>"
      ],
      "text/plain": [
       "      Unnamed: 0       MMSI         BaseDateTime       LAT       LON  SOG  \\\n",
       "1514        1832  316013007  2017-01-29T14:12:31  44.22069 -76.46081 -0.1   \n",
       "\n",
       "       COG  Heading          VesselName         IMO CallSign  \\\n",
       "1514 -49.6     99.0  WOLFE ISLANDER III  IMO7423079   VA3418   \n",
       "\n",
       "              VesselType                  Status  Length  Width  Draft  Cargo  \\\n",
       "1514  WOLFE ISLANDER III  under way using engine   62.49  20.27    2.3     60   \n",
       "\n",
       "      label  \n",
       "1514      0  "
      ]
     },
     "execution_count": 152,
     "metadata": {},
     "output_type": "execute_result"
    }
   ],
   "source": [
    "# #############################################################################\n",
    "# Compute DBSCAN 2D\n",
    "sample_point = random.sample(range(df.shape[0]), 1)\n",
    "sample_point = df.iloc[sample_point]\n",
    "sample_point"
   ]
  },
  {
   "cell_type": "code",
   "execution_count": 153,
   "metadata": {},
   "outputs": [],
   "source": [
    "sample_point_two_D = sample_point[[\"LAT\", \"LON\"]]"
   ]
  },
  {
   "cell_type": "code",
   "execution_count": 154,
   "metadata": {},
   "outputs": [],
   "source": [
    "two_D_Data_G_0 = df_G_0_Checked_points[[\"LAT\", \"LON\"]]\n",
    "# two_D_Data_G_0 = StandardScaler().fit_transform(two_D_Data_G_0)\n",
    "two_D_Data_G_0.shape\n",
    "two_D_covMatrix_G_0 = np.cov(two_D_Data_G_0.T,bias=True)\n",
    "I_G_0 = np.matrix(two_D_covMatrix_G_0).I\n",
    "mean_G_0 = two_D_Data_G_0.mean(axis = 0) "
   ]
  },
  {
   "cell_type": "code",
   "execution_count": 155,
   "metadata": {},
   "outputs": [],
   "source": [
    "two_D_Data_G_1 = df_G_1_Checked_points[[\"LAT\", \"LON\"]]\n",
    "# two_D_Data_G_1 = StandardScaler().fit_transform(two_D_Data_G_1)\n",
    "two_D_Data_G_1.shape\n",
    "two_D_covMatrix_G_1 = np.cov(two_D_Data_G_1.T,bias=True)\n",
    "I_G_1 = np.matrix(two_D_covMatrix_G_1).I\n",
    "mean_G_1 = two_D_Data_G_1.mean(axis = 0) "
   ]
  },
  {
   "cell_type": "code",
   "execution_count": 156,
   "metadata": {},
   "outputs": [],
   "source": [
    "two_D_Data_G_2 = df_G_2_Checked_points[[\"LAT\", \"LON\"]]\n",
    "# two_D_Data_G_2 = StandardScaler().fit_transform(two_D_Data_G_2)\n",
    "two_D_Data_G_2.shape\n",
    "two_D_covMatrix_G_2 = np.cov(two_D_Data_G_2.T,bias=True)\n",
    "I_G_2 = np.matrix(two_D_covMatrix_G_2).I\n",
    "mean_G_2 = two_D_Data_G_2.mean(axis = 0) "
   ]
  },
  {
   "cell_type": "code",
   "execution_count": 157,
   "metadata": {},
   "outputs": [],
   "source": [
    "two_D_Data_G_3 = df_G_3_Checked_points[[\"LAT\", \"LON\"]]\n",
    "# two_D_Data_G_3 = StandardScaler().fit_transform(two_D_Data_G_3)\n",
    "two_D_Data_G_3.shape\n",
    "two_D_covMatrix_G_3 = np.cov(two_D_Data_G_3.T,bias=True)\n",
    "I_G_3 = np.matrix(two_D_covMatrix_G_3).I\n",
    "mean_G_3 = two_D_Data_G_3.mean(axis = 0) "
   ]
  },
  {
   "cell_type": "code",
   "execution_count": 158,
   "metadata": {},
   "outputs": [],
   "source": [
    "two_D_Data_G_4 = df_G_4_Checked_points[[\"LAT\", \"LON\"]]\n",
    "# two_D_Data_G_4 = StandardScaler().fit_transform(two_D_Data_G_4)\n",
    "two_D_Data_G_4.shape\n",
    "two_D_covMatrix_G_4 = np.cov(two_D_Data_G_4.T,bias=True)\n",
    "I_G_4 = np.matrix(two_D_covMatrix_G_4).I\n",
    "mean_G_4 = two_D_Data_G_4.mean(axis = 0) "
   ]
  },
  {
   "cell_type": "code",
   "execution_count": 159,
   "metadata": {},
   "outputs": [],
   "source": [
    "two_D_Data_G_n1 = df_G_n1_Checked_points[[\"LAT\", \"LON\"]]\n",
    "# two_D_Data_G_n1 = StandardScaler().fit_transform(two_D_Data_G_n1)\n",
    "two_D_Data_G_n1.shape\n",
    "two_D_covMatrix_G_n1 = np.cov(two_D_Data_G_n1.T,bias=True)\n",
    "I_G_n1 = np.matrix(two_D_covMatrix_G_n1).I\n",
    "mean_G_n1 = two_D_Data_G_n1.mean(axis = 0) "
   ]
  },
  {
   "cell_type": "code",
   "execution_count": 160,
   "metadata": {},
   "outputs": [],
   "source": [
    "dist_G_0 = np.dot(np.dot((sample_point_two_D - mean_G_0), I_G_0), (sample_point_two_D - mean_G_0).T)[0,0] ** 0.5\n",
    "dist_G_1 = np.dot(np.dot((sample_point_two_D - mean_G_1), I_G_1), (sample_point_two_D - mean_G_1).T)[0,0] ** 0.5\n",
    "dist_G_2 = np.dot(np.dot((sample_point_two_D - mean_G_2), I_G_2), (sample_point_two_D - mean_G_2).T)[0,0] ** 0.5\n",
    "dist_G_3 = np.dot(np.dot((sample_point_two_D - mean_G_3), I_G_3), (sample_point_two_D - mean_G_3).T)[0,0] ** 0.5\n",
    "dist_G_4 = np.dot(np.dot((sample_point_two_D - mean_G_4), I_G_4), (sample_point_two_D - mean_G_4).T)[0,0] ** 0.5\n",
    "dist_G_n1 = np.dot(np.dot((sample_point_two_D - mean_G_n1), I_G_n1), (sample_point_two_D - mean_G_n1).T)[0,0] ** 0.5"
   ]
  },
  {
   "cell_type": "code",
   "execution_count": 161,
   "metadata": {},
   "outputs": [
    {
     "data": {
      "text/plain": [
       "(1.7540375707658953,\n",
       " 66.34102479870177,\n",
       " 976.8126167908728,\n",
       " 11.95917021161865,\n",
       " 40.23930135247809,\n",
       " 30.732030506626288)"
      ]
     },
     "execution_count": 161,
     "metadata": {},
     "output_type": "execute_result"
    }
   ],
   "source": [
    "dist_G_0, dist_G_1, dist_G_2, dist_G_3, dist_G_4, dist_G_n1 "
   ]
  },
  {
   "cell_type": "code",
   "execution_count": null,
   "metadata": {},
   "outputs": [],
   "source": []
  },
  {
   "cell_type": "code",
   "execution_count": 180,
   "metadata": {},
   "outputs": [
    {
     "data": {
      "text/html": [
       "<div>\n",
       "<style scoped>\n",
       "    .dataframe tbody tr th:only-of-type {\n",
       "        vertical-align: middle;\n",
       "    }\n",
       "\n",
       "    .dataframe tbody tr th {\n",
       "        vertical-align: top;\n",
       "    }\n",
       "\n",
       "    .dataframe thead th {\n",
       "        text-align: right;\n",
       "    }\n",
       "</style>\n",
       "<table border=\"1\" class=\"dataframe\">\n",
       "  <thead>\n",
       "    <tr style=\"text-align: right;\">\n",
       "      <th></th>\n",
       "      <th>Unnamed: 0</th>\n",
       "      <th>MMSI</th>\n",
       "      <th>BaseDateTime</th>\n",
       "      <th>LAT</th>\n",
       "      <th>LON</th>\n",
       "      <th>SOG</th>\n",
       "      <th>COG</th>\n",
       "      <th>Heading</th>\n",
       "      <th>VesselName</th>\n",
       "      <th>IMO</th>\n",
       "      <th>CallSign</th>\n",
       "      <th>VesselType</th>\n",
       "      <th>Status</th>\n",
       "      <th>Length</th>\n",
       "      <th>Width</th>\n",
       "      <th>Draft</th>\n",
       "      <th>Cargo</th>\n",
       "      <th>label</th>\n",
       "    </tr>\n",
       "  </thead>\n",
       "  <tbody>\n",
       "    <tr>\n",
       "      <th>667</th>\n",
       "      <td>800</td>\n",
       "      <td>316013007</td>\n",
       "      <td>2017-01-13T02:50:47</td>\n",
       "      <td>44.23261</td>\n",
       "      <td>-76.47699</td>\n",
       "      <td>-0.1</td>\n",
       "      <td>-49.6</td>\n",
       "      <td>99.0</td>\n",
       "      <td>WOLFE ISLANDER III</td>\n",
       "      <td>IMO7423079</td>\n",
       "      <td>VA3418</td>\n",
       "      <td>WOLFE ISLANDER III</td>\n",
       "      <td>under way using engine</td>\n",
       "      <td>62.49</td>\n",
       "      <td>20.27</td>\n",
       "      <td>2.3</td>\n",
       "      <td>60</td>\n",
       "      <td>2</td>\n",
       "    </tr>\n",
       "  </tbody>\n",
       "</table>\n",
       "</div>"
      ],
      "text/plain": [
       "     Unnamed: 0       MMSI         BaseDateTime       LAT       LON  SOG  \\\n",
       "667         800  316013007  2017-01-13T02:50:47  44.23261 -76.47699 -0.1   \n",
       "\n",
       "      COG  Heading          VesselName         IMO CallSign  \\\n",
       "667 -49.6     99.0  WOLFE ISLANDER III  IMO7423079   VA3418   \n",
       "\n",
       "             VesselType                  Status  Length  Width  Draft  Cargo  \\\n",
       "667  WOLFE ISLANDER III  under way using engine   62.49  20.27    2.3     60   \n",
       "\n",
       "     label  \n",
       "667      2  "
      ]
     },
     "execution_count": 180,
     "metadata": {},
     "output_type": "execute_result"
    }
   ],
   "source": [
    "# #############################################################################\n",
    "# Compute DBSCAN 5D\n",
    "sample_point = random.sample(range(df.shape[0]), 1)\n",
    "sample_point = df.iloc[sample_point]\n",
    "sample_point"
   ]
  },
  {
   "cell_type": "code",
   "execution_count": 181,
   "metadata": {},
   "outputs": [],
   "source": [
    "sample_point_five_D = sample_point[[\"LAT\", \"LON\", \"Heading\"]]"
   ]
  },
  {
   "cell_type": "code",
   "execution_count": null,
   "metadata": {},
   "outputs": [],
   "source": []
  },
  {
   "cell_type": "code",
   "execution_count": 182,
   "metadata": {},
   "outputs": [],
   "source": [
    "five_D_Data_G_0 = df_G_0_Checked_points[[\"LAT\", \"LON\", \"Heading\"]]\n",
    "# five_D_Data_G_0 = StandardScaler().fit_transform(five_D_Data_G_0)\n",
    "five_D_Data_G_0.shape\n",
    "five_D_covMatrix_G_0 = np.cov(five_D_Data_G_0.T,bias=True)\n",
    "I_G_0 = np.matrix(five_D_covMatrix_G_0).I\n",
    "mean_G_0 = five_D_Data_G_0.mean(axis = 0) "
   ]
  },
  {
   "cell_type": "code",
   "execution_count": 183,
   "metadata": {},
   "outputs": [],
   "source": [
    "five_D_Data_G_1 = df_G_1_Checked_points[[\"LAT\", \"LON\", \"Heading\"]]\n",
    "# five_D_Data_G_1 = StandardScaler().fit_transform(five_D_Data_G_1)\n",
    "five_D_Data_G_1.shape\n",
    "five_D_covMatrix_G_1 = np.cov(five_D_Data_G_1.T,bias=True)\n",
    "I_G_1 = np.matrix(five_D_covMatrix_G_1).I\n",
    "mean_G_1 = five_D_Data_G_1.mean(axis = 0) "
   ]
  },
  {
   "cell_type": "code",
   "execution_count": 184,
   "metadata": {},
   "outputs": [],
   "source": [
    "five_D_Data_G_2 = df_G_2_Checked_points[[\"LAT\", \"LON\", \"Heading\"]]\n",
    "# five_D_Data_G_2 = StandardScaler().fit_transform(five_D_Data_G_2)\n",
    "five_D_Data_G_2.shape\n",
    "five_D_covMatrix_G_2 = np.cov(five_D_Data_G_2.T,bias=True)\n",
    "I_G_2 = np.matrix(five_D_covMatrix_G_2).I\n",
    "mean_G_2 = five_D_Data_G_2.mean(axis = 0) "
   ]
  },
  {
   "cell_type": "code",
   "execution_count": 185,
   "metadata": {},
   "outputs": [],
   "source": [
    "five_D_Data_G_3 = df_G_3_Checked_points[[\"LAT\", \"LON\", \"Heading\"]]\n",
    "# five_D_Data_G_3 = StandardScaler().fit_transform(five_D_Data_G_3)\n",
    "five_D_Data_G_3.shape\n",
    "five_D_covMatrix_G_3 = np.cov(five_D_Data_G_3.T,bias=True)\n",
    "I_G_3 = np.matrix(five_D_covMatrix_G_3).I\n",
    "mean_G_3 = five_D_Data_G_3.mean(axis = 0) "
   ]
  },
  {
   "cell_type": "code",
   "execution_count": 186,
   "metadata": {},
   "outputs": [],
   "source": [
    "five_D_Data_G_4 = df_G_4_Checked_points[[\"LAT\", \"LON\", \"Heading\"]]\n",
    "# five_D_Data_G_4 = StandardScaler().fit_transform(five_D_Data_G_4)\n",
    "five_D_Data_G_4.shape\n",
    "five_D_covMatrix_G_4 = np.cov(five_D_Data_G_4.T,bias=True)\n",
    "I_G_4 = np.matrix(five_D_covMatrix_G_4).I\n",
    "mean_G_4 = five_D_Data_G_4.mean(axis = 0) "
   ]
  },
  {
   "cell_type": "code",
   "execution_count": 187,
   "metadata": {},
   "outputs": [],
   "source": [
    "five_D_Data_G_n1 = df_G_n1_Checked_points[[\"LAT\", \"LON\", \"Heading\"]]\n",
    "# five_D_Data_G_n1 = StandardScaler().fit_transform(five_D_Data_G_n1)\n",
    "five_D_Data_G_n1.shape\n",
    "five_D_covMatrix_G_n1 = np.cov(five_D_Data_G_n1.T,bias=True)\n",
    "I_G_n1 = np.matrix(five_D_covMatrix_G_n1).I\n",
    "mean_G_n1 = five_D_Data_G_n1.mean(axis = 0) "
   ]
  },
  {
   "cell_type": "code",
   "execution_count": 188,
   "metadata": {},
   "outputs": [],
   "source": [
    "dist_G_0 = np.dot(np.dot((sample_point_five_D - mean_G_0), I_G_0), (sample_point_five_D - mean_G_0).T)[0,0] ** 0.5\n",
    "dist_G_1 = np.dot(np.dot((sample_point_five_D - mean_G_1), I_G_1), (sample_point_five_D - mean_G_1).T)[0,0] ** 0.5\n",
    "dist_G_2 = np.dot(np.dot((sample_point_five_D - mean_G_2), I_G_2), (sample_point_five_D - mean_G_2).T)[0,0] ** 0.5\n",
    "dist_G_3 = np.dot(np.dot((sample_point_five_D - mean_G_3), I_G_3), (sample_point_five_D - mean_G_3).T)[0,0] ** 0.5\n",
    "dist_G_4 = np.dot(np.dot((sample_point_five_D - mean_G_4), I_G_4), (sample_point_five_D - mean_G_4).T)[0,0] ** 0.5\n",
    "dist_G_n1 = np.dot(np.dot((sample_point_five_D - mean_G_n1), I_G_n1), (sample_point_five_D - mean_G_n1).T)[0,0] ** 0.5"
   ]
  },
  {
   "cell_type": "code",
   "execution_count": 189,
   "metadata": {},
   "outputs": [
    {
     "data": {
      "text/plain": [
       "(27.336246613781615,\n",
       " 302.25609448681473,\n",
       " 1.17665681230897,\n",
       " 61.69566697882147,\n",
       " 24.43363369995395,\n",
       " 29.618948583250187)"
      ]
     },
     "execution_count": 189,
     "metadata": {},
     "output_type": "execute_result"
    }
   ],
   "source": [
    "dist_G_0, dist_G_1, dist_G_2, dist_G_3, dist_G_4, dist_G_n1 "
   ]
  },
  {
   "cell_type": "code",
   "execution_count": null,
   "metadata": {},
   "outputs": [],
   "source": []
  },
  {
   "cell_type": "code",
   "execution_count": null,
   "metadata": {},
   "outputs": [],
   "source": []
  },
  {
   "cell_type": "code",
   "execution_count": null,
   "metadata": {},
   "outputs": [],
   "source": []
  },
  {
   "cell_type": "code",
   "execution_count": 28,
   "metadata": {},
   "outputs": [
    {
     "name": "stderr",
     "output_type": "stream",
     "text": [
      "C:\\Users\\62707\\Anaconda3\\lib\\site-packages\\IPython\\core\\interactiveshell.py:2785: DtypeWarning: Columns (11) have mixed types. Specify dtype option on import or set low_memory=False.\n",
      "  interactivity=interactivity, compiler=compiler, result=result)\n"
     ]
    },
    {
     "data": {
      "text/plain": [
       "(39891, 18)"
      ]
     },
     "execution_count": 28,
     "metadata": {},
     "output_type": "execute_result"
    }
   ],
   "source": [
    "# #############################################################################\n",
    "# Read data & generate checked points for each label \n",
    "file_url = 'result4.csv'\n",
    "df = pd.read_csv(file_url)\n",
    "df.shape"
   ]
  },
  {
   "cell_type": "code",
   "execution_count": 29,
   "metadata": {},
   "outputs": [
    {
     "data": {
      "text/plain": [
       "array([ 0, -1,  1,  2,  3,  4,  5,  6,  7,  8], dtype=int64)"
      ]
     },
     "execution_count": 29,
     "metadata": {},
     "output_type": "execute_result"
    }
   ],
   "source": [
    "df['label'].unique()"
   ]
  },
  {
   "cell_type": "code",
   "execution_count": 30,
   "metadata": {},
   "outputs": [
    {
     "data": {
      "text/plain": [
       "(9337, 18)"
      ]
     },
     "execution_count": 30,
     "metadata": {},
     "output_type": "execute_result"
    }
   ],
   "source": [
    "df_G_0 = df[df['label']==0]\n",
    "df_G_0.shape"
   ]
  },
  {
   "cell_type": "code",
   "execution_count": 31,
   "metadata": {},
   "outputs": [],
   "source": [
    "df_G_0_Checked = random.sample(range(df_G_0.shape[0]), max(df_G_0.shape[0]//100,30))"
   ]
  },
  {
   "cell_type": "code",
   "execution_count": 32,
   "metadata": {},
   "outputs": [
    {
     "data": {
      "text/plain": [
       "(3178, 18)"
      ]
     },
     "execution_count": 32,
     "metadata": {},
     "output_type": "execute_result"
    }
   ],
   "source": [
    "df_G_1 = df[df['label']==1]\n",
    "df_G_1.shape"
   ]
  },
  {
   "cell_type": "code",
   "execution_count": 33,
   "metadata": {},
   "outputs": [],
   "source": [
    "df_G_1_Checked = random.sample(range(df_G_1.shape[0]), max(df_G_1.shape[0]//100,30))"
   ]
  },
  {
   "cell_type": "code",
   "execution_count": 34,
   "metadata": {},
   "outputs": [
    {
     "data": {
      "text/plain": [
       "(214, 18)"
      ]
     },
     "execution_count": 34,
     "metadata": {},
     "output_type": "execute_result"
    }
   ],
   "source": [
    "df_G_2 = df[df['label']==2]\n",
    "df_G_2.shape"
   ]
  },
  {
   "cell_type": "code",
   "execution_count": 35,
   "metadata": {},
   "outputs": [],
   "source": [
    "df_G_2_Checked = random.sample(range(df_G_2.shape[0]), max(df_G_2.shape[0]//100,30))"
   ]
  },
  {
   "cell_type": "code",
   "execution_count": 36,
   "metadata": {},
   "outputs": [
    {
     "data": {
      "text/plain": [
       "(25518, 18)"
      ]
     },
     "execution_count": 36,
     "metadata": {},
     "output_type": "execute_result"
    }
   ],
   "source": [
    "df_G_3 = df[df['label']==3]\n",
    "df_G_3.shape"
   ]
  },
  {
   "cell_type": "code",
   "execution_count": 37,
   "metadata": {},
   "outputs": [],
   "source": [
    "df_G_3_Checked = random.sample(range(df_G_3.shape[0]), max(df_G_3.shape[0]//100,30))"
   ]
  },
  {
   "cell_type": "code",
   "execution_count": 38,
   "metadata": {},
   "outputs": [
    {
     "data": {
      "text/plain": [
       "(166, 18)"
      ]
     },
     "execution_count": 38,
     "metadata": {},
     "output_type": "execute_result"
    }
   ],
   "source": [
    "df_G_4 = df[df['label']==4]\n",
    "df_G_4.shape"
   ]
  },
  {
   "cell_type": "code",
   "execution_count": 39,
   "metadata": {},
   "outputs": [],
   "source": [
    "df_G_4_Checked = random.sample(range(df_G_4.shape[0]), max(df_G_4.shape[0]//100,30))"
   ]
  },
  {
   "cell_type": "code",
   "execution_count": 40,
   "metadata": {},
   "outputs": [],
   "source": [
    "df_G_0_Checked_points = df_G_0.iloc[df_G_0_Checked]\n",
    "df_G_1_Checked_points = df_G_1.iloc[df_G_1_Checked]\n",
    "df_G_2_Checked_points = df_G_2.iloc[df_G_2_Checked]\n",
    "df_G_3_Checked_points = df_G_3.iloc[df_G_3_Checked]\n",
    "df_G_4_Checked_points = df_G_4.iloc[df_G_4_Checked]"
   ]
  },
  {
   "cell_type": "code",
   "execution_count": 41,
   "metadata": {},
   "outputs": [],
   "source": [
    "df_G_0_Checked_points.to_csv('Noise_df_G_0_Checked_points.csv')\n",
    "df_G_1_Checked_points.to_csv('Noise_df_G_1_Checked_points.csv')\n",
    "df_G_2_Checked_points.to_csv('Noise_df_G_2_Checked_points.csv')\n",
    "df_G_3_Checked_points.to_csv('Noise_df_G_3_Checked_points.csv')\n",
    "df_G_4_Checked_points.to_csv('Noise_df_G_4_Checked_points.csv')"
   ]
  },
  {
   "cell_type": "code",
   "execution_count": 42,
   "metadata": {},
   "outputs": [
    {
     "data": {
      "text/plain": [
       "(93, 31, 30, 255, 30)"
      ]
     },
     "execution_count": 42,
     "metadata": {},
     "output_type": "execute_result"
    }
   ],
   "source": [
    "len(df_G_0_Checked), len(df_G_1_Checked),len(df_G_2_Checked), len(df_G_3_Checked), len(df_G_4_Checked)"
   ]
  },
  {
   "cell_type": "code",
   "execution_count": null,
   "metadata": {},
   "outputs": [],
   "source": []
  }
 ],
 "metadata": {
  "kernelspec": {
   "display_name": "Python 3",
   "language": "python",
   "name": "python3"
  },
  "language_info": {
   "codemirror_mode": {
    "name": "ipython",
    "version": 3
   },
   "file_extension": ".py",
   "mimetype": "text/x-python",
   "name": "python",
   "nbconvert_exporter": "python",
   "pygments_lexer": "ipython3",
   "version": "3.6.5"
  }
 },
 "nbformat": 4,
 "nbformat_minor": 2
}
