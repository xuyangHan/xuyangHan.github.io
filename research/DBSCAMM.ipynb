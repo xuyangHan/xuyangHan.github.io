{
 "cells": [
  {
   "cell_type": "code",
   "execution_count": 1,
   "metadata": {},
   "outputs": [],
   "source": [
    "import numpy as np \n",
    "from sklearn.cluster import DBSCAN\n",
    "from sklearn.preprocessing import StandardScaler\n",
    "import matplotlib\n",
    "import matplotlib.pyplot as plt\n",
    "import pandas as pd\n",
    "import sklearn.utils"
   ]
  },
  {
   "cell_type": "code",
   "execution_count": 2,
   "metadata": {},
   "outputs": [
    {
     "data": {
      "text/html": [
       "<div>\n",
       "<style scoped>\n",
       "    .dataframe tbody tr th:only-of-type {\n",
       "        vertical-align: middle;\n",
       "    }\n",
       "\n",
       "    .dataframe tbody tr th {\n",
       "        vertical-align: top;\n",
       "    }\n",
       "\n",
       "    .dataframe thead th {\n",
       "        text-align: right;\n",
       "    }\n",
       "</style>\n",
       "<table border=\"1\" class=\"dataframe\">\n",
       "  <thead>\n",
       "    <tr style=\"text-align: right;\">\n",
       "      <th></th>\n",
       "      <th>MMSI</th>\n",
       "      <th>BaseDateTime</th>\n",
       "      <th>LAT</th>\n",
       "      <th>LON</th>\n",
       "      <th>SOG</th>\n",
       "      <th>COG</th>\n",
       "      <th>Heading</th>\n",
       "      <th>VesselName</th>\n",
       "      <th>IMO</th>\n",
       "      <th>CallSign</th>\n",
       "      <th>VesselType</th>\n",
       "      <th>Status</th>\n",
       "      <th>Length</th>\n",
       "      <th>Width</th>\n",
       "      <th>Draft</th>\n",
       "      <th>Cargo</th>\n",
       "    </tr>\n",
       "  </thead>\n",
       "  <tbody>\n",
       "    <tr>\n",
       "      <th>0</th>\n",
       "      <td>316013007</td>\n",
       "      <td>2017-01-01T00:05:38</td>\n",
       "      <td>44.22577</td>\n",
       "      <td>-76.47337</td>\n",
       "      <td>-0.1</td>\n",
       "      <td>-49.6</td>\n",
       "      <td>184.0</td>\n",
       "      <td>WOLFE ISLANDER III</td>\n",
       "      <td>IMO7423079</td>\n",
       "      <td>VA3418</td>\n",
       "      <td>WOLFE ISLANDER III</td>\n",
       "      <td>under way using engine</td>\n",
       "      <td>62.49</td>\n",
       "      <td>20.27</td>\n",
       "      <td>2.3</td>\n",
       "      <td>60</td>\n",
       "    </tr>\n",
       "    <tr>\n",
       "      <th>2</th>\n",
       "      <td>316013007</td>\n",
       "      <td>2017-01-01T00:14:16</td>\n",
       "      <td>44.21882</td>\n",
       "      <td>-76.44503</td>\n",
       "      <td>-0.1</td>\n",
       "      <td>-49.6</td>\n",
       "      <td>105.0</td>\n",
       "      <td>WOLFE ISLANDER III</td>\n",
       "      <td>IMO7423079</td>\n",
       "      <td>VA3418</td>\n",
       "      <td>WOLFE ISLANDER III</td>\n",
       "      <td>under way using engine</td>\n",
       "      <td>62.49</td>\n",
       "      <td>20.27</td>\n",
       "      <td>2.3</td>\n",
       "      <td>60</td>\n",
       "    </tr>\n",
       "    <tr>\n",
       "      <th>3</th>\n",
       "      <td>316013007</td>\n",
       "      <td>2017-01-01T00:14:16</td>\n",
       "      <td>44.21146</td>\n",
       "      <td>-76.45525</td>\n",
       "      <td>-0.1</td>\n",
       "      <td>-49.6</td>\n",
       "      <td>195.0</td>\n",
       "      <td>WOLFE ISLANDER III</td>\n",
       "      <td>IMO7423079</td>\n",
       "      <td>VA3418</td>\n",
       "      <td>WOLFE ISLANDER III</td>\n",
       "      <td>under way using engine</td>\n",
       "      <td>62.49</td>\n",
       "      <td>20.27</td>\n",
       "      <td>2.3</td>\n",
       "      <td>60</td>\n",
       "    </tr>\n",
       "    <tr>\n",
       "      <th>4</th>\n",
       "      <td>316013007</td>\n",
       "      <td>2017-01-01T00:23:56</td>\n",
       "      <td>44.21536</td>\n",
       "      <td>-76.42605</td>\n",
       "      <td>-0.1</td>\n",
       "      <td>-49.6</td>\n",
       "      <td>116.0</td>\n",
       "      <td>WOLFE ISLANDER III</td>\n",
       "      <td>IMO7423079</td>\n",
       "      <td>VA3418</td>\n",
       "      <td>WOLFE ISLANDER III</td>\n",
       "      <td>under way using engine</td>\n",
       "      <td>62.49</td>\n",
       "      <td>20.27</td>\n",
       "      <td>2.3</td>\n",
       "      <td>60</td>\n",
       "    </tr>\n",
       "    <tr>\n",
       "      <th>5</th>\n",
       "      <td>316013007</td>\n",
       "      <td>2017-01-01T00:23:56</td>\n",
       "      <td>44.19248</td>\n",
       "      <td>-76.45871</td>\n",
       "      <td>-0.1</td>\n",
       "      <td>-49.6</td>\n",
       "      <td>206.0</td>\n",
       "      <td>WOLFE ISLANDER III</td>\n",
       "      <td>IMO7423079</td>\n",
       "      <td>VA3418</td>\n",
       "      <td>WOLFE ISLANDER III</td>\n",
       "      <td>under way using engine</td>\n",
       "      <td>62.49</td>\n",
       "      <td>20.27</td>\n",
       "      <td>2.3</td>\n",
       "      <td>60</td>\n",
       "    </tr>\n",
       "  </tbody>\n",
       "</table>\n",
       "</div>"
      ],
      "text/plain": [
       "        MMSI         BaseDateTime       LAT       LON  SOG   COG  Heading  \\\n",
       "0  316013007  2017-01-01T00:05:38  44.22577 -76.47337 -0.1 -49.6    184.0   \n",
       "2  316013007  2017-01-01T00:14:16  44.21882 -76.44503 -0.1 -49.6    105.0   \n",
       "3  316013007  2017-01-01T00:14:16  44.21146 -76.45525 -0.1 -49.6    195.0   \n",
       "4  316013007  2017-01-01T00:23:56  44.21536 -76.42605 -0.1 -49.6    116.0   \n",
       "5  316013007  2017-01-01T00:23:56  44.19248 -76.45871 -0.1 -49.6    206.0   \n",
       "\n",
       "           VesselName         IMO CallSign          VesselType  \\\n",
       "0  WOLFE ISLANDER III  IMO7423079   VA3418  WOLFE ISLANDER III   \n",
       "2  WOLFE ISLANDER III  IMO7423079   VA3418  WOLFE ISLANDER III   \n",
       "3  WOLFE ISLANDER III  IMO7423079   VA3418  WOLFE ISLANDER III   \n",
       "4  WOLFE ISLANDER III  IMO7423079   VA3418  WOLFE ISLANDER III   \n",
       "5  WOLFE ISLANDER III  IMO7423079   VA3418  WOLFE ISLANDER III   \n",
       "\n",
       "                   Status  Length  Width  Draft  Cargo  \n",
       "0  under way using engine   62.49  20.27    2.3     60  \n",
       "2  under way using engine   62.49  20.27    2.3     60  \n",
       "3  under way using engine   62.49  20.27    2.3     60  \n",
       "4  under way using engine   62.49  20.27    2.3     60  \n",
       "5  under way using engine   62.49  20.27    2.3     60  "
      ]
     },
     "execution_count": 2,
     "metadata": {},
     "output_type": "execute_result"
    }
   ],
   "source": [
    "# #############################################################################\n",
    "# Read data\n",
    "file_url = 'rotated.csv'\n",
    "df = pd.read_csv(file_url)\n",
    "df = df[df['LAT']<=44.234]\n",
    "df.head()"
   ]
  },
  {
   "cell_type": "code",
   "execution_count": 22,
   "metadata": {},
   "outputs": [
    {
     "name": "stdout",
     "output_type": "stream",
     "text": [
      "[[ 1.         -0.16984848]\n",
      " [-0.16984848  1.        ]]\n"
     ]
    }
   ],
   "source": [
    "two_D_Data = df[[\"LAT\", \"LON\"]]\n",
    "two_D_Data = StandardScaler().fit_transform(two_D_Data)\n",
    "two_D_Data.shape\n",
    "two_D_covMatrix = np.cov(two_D_Data.T,bias=True)\n",
    "print (two_D_covMatrix)"
   ]
  },
  {
   "cell_type": "code",
   "execution_count": 23,
   "metadata": {},
   "outputs": [
    {
     "name": "stdout",
     "output_type": "stream",
     "text": [
      "[[ 1.         -0.16984848  0.          0.         -0.70702397]\n",
      " [-0.16984848  1.          0.          0.         -0.21823358]\n",
      " [ 0.          0.          0.          0.          0.        ]\n",
      " [ 0.          0.          0.          0.          0.        ]\n",
      " [-0.70702397 -0.21823358  0.          0.          1.        ]]\n"
     ]
    }
   ],
   "source": [
    "five_D_Data = df[[\"LAT\", \"LON\", \"SOG\", \"COG\", \"Heading\"]]\n",
    "five_D_Data = StandardScaler().fit_transform(five_D_Data)\n",
    "five_D_covMatrix = np.cov(five_D_Data.T,bias=True)\n",
    "print (five_D_covMatrix)"
   ]
  },
  {
   "cell_type": "code",
   "execution_count": 21,
   "metadata": {},
   "outputs": [
    {
     "data": {
      "text/plain": [
       "array([[ 0.86869818,  0.36323823, -0.17204021, ...,  0.49996697,\n",
       "         0.39960226,  0.36032911],\n",
       "       [-1.1887128 ,  0.43261896, -0.15206737, ..., -0.15035107,\n",
       "         0.01384166, -0.12346237]])"
      ]
     },
     "execution_count": 21,
     "metadata": {},
     "output_type": "execute_result"
    }
   ],
   "source": [
    "two_D_Data = df[[\"LAT\", \"LON\"]]\n",
    "two_D_Data = StandardScaler().fit_transform(two_D_Data)\n",
    "two_D_Data.T"
   ]
  },
  {
   "cell_type": "code",
   "execution_count": 15,
   "metadata": {},
   "outputs": [
    {
     "data": {
      "text/plain": [
       "(5, 5)"
      ]
     },
     "execution_count": 15,
     "metadata": {},
     "output_type": "execute_result"
    }
   ],
   "source": [
    "five_D_covMatrix.shape"
   ]
  },
  {
   "cell_type": "code",
   "execution_count": null,
   "metadata": {},
   "outputs": [],
   "source": []
  },
  {
   "cell_type": "code",
   "execution_count": null,
   "metadata": {},
   "outputs": [],
   "source": []
  }
 ],
 "metadata": {
  "kernelspec": {
   "display_name": "Python 3",
   "language": "python",
   "name": "python3"
  },
  "language_info": {
   "codemirror_mode": {
    "name": "ipython",
    "version": 3
   },
   "file_extension": ".py",
   "mimetype": "text/x-python",
   "name": "python",
   "nbconvert_exporter": "python",
   "pygments_lexer": "ipython3",
   "version": "3.6.5"
  }
 },
 "nbformat": 4,
 "nbformat_minor": 2
}
