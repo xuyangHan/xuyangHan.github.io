{
 "cells": [
  {
   "cell_type": "code",
   "execution_count": 1,
   "metadata": {},
   "outputs": [],
   "source": [
    "import numpy as np \n",
    "from sklearn.cluster import DBSCAN\n",
    "from sklearn.preprocessing import StandardScaler\n",
    "import matplotlib\n",
    "import matplotlib.pyplot as plt\n",
    "import pandas as pd\n",
    "import sklearn.utils\n",
    "import random"
   ]
  },
  {
   "cell_type": "code",
   "execution_count": 2,
   "metadata": {},
   "outputs": [],
   "source": [
    "df_G_0_Checked_points = pd.read_csv('Cross_df_G_0_Checked_points.csv')\n",
    "df_G_1_Checked_points = pd.read_csv('Cross_df_G_1_Checked_points.csv')\n",
    "df_G_2_Checked_points = pd.read_csv('Cross_df_G_2_Checked_points.csv')\n",
    "df_G_3_Checked_points = pd.read_csv('Cross_df_G_3_Checked_points.csv')\n",
    "df_G_n1_Checked_points = pd.read_csv('Cross_df_G_n1_Checked_points.csv')"
   ]
  },
  {
   "cell_type": "code",
   "execution_count": 20,
   "metadata": {},
   "outputs": [],
   "source": [
    "two_D_Data_G_0 = df_G_0_Checked_points[[\"LAT\", \"LON\"]]\n",
    "# two_D_Data_G_0 = StandardScaler().fit_transform(two_D_Data_G_0)\n",
    "two_D_Data_G_0.shape\n",
    "two_D_covMatrix_G_0 = np.cov(two_D_Data_G_0.T,bias=True)\n",
    "I_G_0 = np.matrix(two_D_covMatrix_G_0).I\n",
    "mean_G_0 = two_D_Data_G_0.mean(axis = 0) "
   ]
  },
  {
   "cell_type": "code",
   "execution_count": 21,
   "metadata": {},
   "outputs": [],
   "source": [
    "two_D_Data_G_1 = df_G_1_Checked_points[[\"LAT\", \"LON\"]]\n",
    "# two_D_Data_G_1 = StandardScaler().fit_transform(two_D_Data_G_1)\n",
    "two_D_Data_G_1.shape\n",
    "two_D_covMatrix_G_1 = np.cov(two_D_Data_G_1.T,bias=True)\n",
    "I_G_1 = np.matrix(two_D_covMatrix_G_1).I\n",
    "mean_G_1 = two_D_Data_G_1.mean(axis = 0) "
   ]
  },
  {
   "cell_type": "code",
   "execution_count": 22,
   "metadata": {},
   "outputs": [],
   "source": [
    "two_D_Data_G_2 = df_G_2_Checked_points[[\"LAT\", \"LON\"]]\n",
    "# two_D_Data_G_2 = StandardScaler().fit_transform(two_D_Data_G_2)\n",
    "two_D_Data_G_2.shape\n",
    "two_D_covMatrix_G_2 = np.cov(two_D_Data_G_2.T,bias=True)\n",
    "I_G_2 = np.matrix(two_D_covMatrix_G_2).I\n",
    "mean_G_2 = two_D_Data_G_2.mean(axis = 0) "
   ]
  },
  {
   "cell_type": "code",
   "execution_count": 23,
   "metadata": {},
   "outputs": [],
   "source": [
    "two_D_Data_G_3 = df_G_3_Checked_points[[\"LAT\", \"LON\"]]\n",
    "# two_D_Data_G_3 = StandardScaler().fit_transform(two_D_Data_G_3)\n",
    "two_D_Data_G_3.shape\n",
    "two_D_covMatrix_G_3 = np.cov(two_D_Data_G_3.T,bias=True)\n",
    "I_G_3 = np.matrix(two_D_covMatrix_G_3).I\n",
    "mean_G_3 = two_D_Data_G_3.mean(axis = 0) "
   ]
  },
  {
   "cell_type": "code",
   "execution_count": 24,
   "metadata": {},
   "outputs": [],
   "source": [
    "two_D_Data_G_4 = df_G_4_Checked_points[[\"LAT\", \"LON\"]]\n",
    "# two_D_Data_G_4 = StandardScaler().fit_transform(two_D_Data_G_4)\n",
    "two_D_Data_G_4.shape\n",
    "two_D_covMatrix_G_4 = np.cov(two_D_Data_G_4.T,bias=True)\n",
    "I_G_4 = np.matrix(two_D_covMatrix_G_4).I\n",
    "mean_G_4 = two_D_Data_G_4.mean(axis = 0) "
   ]
  },
  {
   "cell_type": "code",
   "execution_count": 25,
   "metadata": {},
   "outputs": [],
   "source": [
    "two_D_Data_G_n1 = df_G_n1_Checked_points[[\"LAT\", \"LON\"]]\n",
    "# two_D_Data_G_n1 = StandardScaler().fit_transform(two_D_Data_G_n1)\n",
    "two_D_Data_G_n1.shape\n",
    "two_D_covMatrix_G_n1 = np.cov(two_D_Data_G_n1.T,bias=True)\n",
    "I_G_n1 = np.matrix(two_D_covMatrix_G_n1).I\n",
    "mean_G_n1 = two_D_Data_G_n1.mean(axis = 0) "
   ]
  },
  {
   "cell_type": "code",
   "execution_count": null,
   "metadata": {},
   "outputs": [],
   "source": []
  },
  {
   "cell_type": "code",
   "execution_count": 9,
   "metadata": {},
   "outputs": [
    {
     "data": {
      "text/plain": [
       "1598"
      ]
     },
     "execution_count": 9,
     "metadata": {},
     "output_type": "execute_result"
    }
   ],
   "source": [
    "# #############################################################################\n",
    "# Read data & generate checked points for each label \n",
    "file_url = 'rotated_filtered_2.csv'\n",
    "df = pd.read_csv(file_url)\n",
    "df.shape[0]"
   ]
  },
  {
   "cell_type": "code",
   "execution_count": 27,
   "metadata": {},
   "outputs": [],
   "source": [
    "df['label'] = -2\n",
    "for i in range(df.shape[0]):\n",
    "    point = df.iloc[i]\n",
    "    point_two_D = point[[\"LAT\", \"LON\"]]\n",
    "    dist_G_0 = np.dot(np.dot((point_two_D - mean_G_0), I_G_0), (point_two_D - mean_G_0).T)[0,0] ** 0.5\n",
    "    dist_G_1 = np.dot(np.dot((point_two_D - mean_G_1), I_G_1), (point_two_D - mean_G_1).T)[0,0] ** 0.5\n",
    "    dist_G_2 = np.dot(np.dot((point_two_D - mean_G_2), I_G_2), (point_two_D - mean_G_2).T)[0,0] ** 0.5\n",
    "    dist_G_3 = np.dot(np.dot((point_two_D - mean_G_3), I_G_3), (point_two_D - mean_G_3).T)[0,0] ** 0.5\n",
    "    dist_G_4 = np.dot(np.dot((point_two_D - mean_G_4), I_G_4), (point_two_D - mean_G_4).T)[0,0] ** 0.5\n",
    "    dist_G_n1 = np.dot(np.dot((point_two_D - mean_G_n1), I_G_n1), (point_two_D - mean_G_n1).T)[0,0] ** 0.5\n",
    "    dist_list = [dist_G_0, dist_G_1, dist_G_2, dist_G_3, dist_G_4, dist_G_n1]\n",
    "    min_idx = dist_list.index(min(dist_list))\n",
    "    if min(dist_list) < 6:\n",
    "        df.loc[i, 'label'] = min_idx\n",
    "    else:\n",
    "        df.loc[i, 'label'] = -1\n"
   ]
  },
  {
   "cell_type": "code",
   "execution_count": 28,
   "metadata": {},
   "outputs": [],
   "source": [
    "df.to_csv('result_31.csv')"
   ]
  },
  {
   "cell_type": "code",
   "execution_count": 29,
   "metadata": {},
   "outputs": [
    {
     "data": {
      "text/plain": [
       "array([4, 0, 3, 1, 2, 5], dtype=int64)"
      ]
     },
     "execution_count": 29,
     "metadata": {},
     "output_type": "execute_result"
    }
   ],
   "source": [
    "df['label'].unique()"
   ]
  },
  {
   "cell_type": "code",
   "execution_count": null,
   "metadata": {},
   "outputs": [],
   "source": []
  },
  {
   "cell_type": "code",
   "execution_count": 3,
   "metadata": {},
   "outputs": [],
   "source": [
    "five_D_Data_G_0 = df_G_0_Checked_points[[\"LAT\", \"LON\", \"Heading\"]]\n",
    "# five_D_Data_G_0 = StandardScaler().fit_transform(five_D_Data_G_0)\n",
    "five_D_Data_G_0.shape\n",
    "five_D_covMatrix_G_0 = np.cov(five_D_Data_G_0.T,bias=True)\n",
    "I_G_0 = np.matrix(five_D_covMatrix_G_0).I\n",
    "mean_G_0 = five_D_Data_G_0.mean(axis = 0) "
   ]
  },
  {
   "cell_type": "code",
   "execution_count": 4,
   "metadata": {},
   "outputs": [],
   "source": [
    "five_D_Data_G_1 = df_G_1_Checked_points[[\"LAT\", \"LON\", \"Heading\"]]\n",
    "# five_D_Data_G_1 = StandardScaler().fit_transform(five_D_Data_G_1)\n",
    "five_D_Data_G_1.shape\n",
    "five_D_covMatrix_G_1 = np.cov(five_D_Data_G_1.T,bias=True)\n",
    "I_G_1 = np.matrix(five_D_covMatrix_G_1).I\n",
    "mean_G_1 = five_D_Data_G_1.mean(axis = 0) "
   ]
  },
  {
   "cell_type": "code",
   "execution_count": 5,
   "metadata": {},
   "outputs": [],
   "source": [
    "five_D_Data_G_2 = df_G_2_Checked_points[[\"LAT\", \"LON\", \"Heading\"]]\n",
    "# five_D_Data_G_2 = StandardScaler().fit_transform(five_D_Data_G_2)\n",
    "five_D_Data_G_2.shape\n",
    "five_D_covMatrix_G_2 = np.cov(five_D_Data_G_2.T,bias=True)\n",
    "I_G_2 = np.matrix(five_D_covMatrix_G_2).I\n",
    "mean_G_2 = five_D_Data_G_2.mean(axis = 0) "
   ]
  },
  {
   "cell_type": "code",
   "execution_count": 6,
   "metadata": {},
   "outputs": [],
   "source": [
    "five_D_Data_G_3 = df_G_3_Checked_points[[\"LAT\", \"LON\", \"Heading\"]]\n",
    "# five_D_Data_G_3 = StandardScaler().fit_transform(five_D_Data_G_3)\n",
    "five_D_Data_G_3.shape\n",
    "five_D_covMatrix_G_3 = np.cov(five_D_Data_G_3.T,bias=True)\n",
    "I_G_3 = np.matrix(five_D_covMatrix_G_3).I\n",
    "mean_G_3 = five_D_Data_G_3.mean(axis = 0) "
   ]
  },
  {
   "cell_type": "code",
   "execution_count": null,
   "metadata": {},
   "outputs": [],
   "source": []
  },
  {
   "cell_type": "code",
   "execution_count": 7,
   "metadata": {},
   "outputs": [],
   "source": [
    "five_D_Data_G_n1 = df_G_n1_Checked_points[[\"LAT\", \"LON\", \"Heading\"]]\n",
    "# five_D_Data_G_n1 = StandardScaler().fit_transform(five_D_Data_G_n1)\n",
    "five_D_Data_G_n1.shape\n",
    "five_D_covMatrix_G_n1 = np.cov(five_D_Data_G_n1.T,bias=True)\n",
    "I_G_n1 = np.matrix(five_D_covMatrix_G_n1).I\n",
    "mean_G_n1 = five_D_Data_G_n1.mean(axis = 0) "
   ]
  },
  {
   "cell_type": "code",
   "execution_count": 11,
   "metadata": {},
   "outputs": [],
   "source": [
    "df['label'] = -2\n",
    "for i in range(df.shape[0]):\n",
    "    point = df.iloc[i]\n",
    "    point_five_D = point[[\"LAT\", \"LON\", \"Heading\"]]    \n",
    "    dist_G_0 = np.dot(np.dot((point_five_D - mean_G_0), I_G_0), (point_five_D - mean_G_0).T)[0,0] ** 0.5\n",
    "    dist_G_1 = np.dot(np.dot((point_five_D - mean_G_1), I_G_1), (point_five_D - mean_G_1).T)[0,0] ** 0.5\n",
    "    dist_G_2 = np.dot(np.dot((point_five_D - mean_G_2), I_G_2), (point_five_D - mean_G_2).T)[0,0] ** 0.5\n",
    "    dist_G_3 = np.dot(np.dot((point_five_D - mean_G_3), I_G_3), (point_five_D - mean_G_3).T)[0,0] ** 0.5\n",
    "    dist_G_n1 = np.dot(np.dot((point_five_D - mean_G_n1), I_G_n1), (point_five_D - mean_G_n1).T)[0,0] ** 0.5\n",
    "    dist_list = [dist_G_0, dist_G_1, dist_G_2, dist_G_3, dist_G_n1]\n",
    "    min_idx = dist_list.index(min(dist_list))\n",
    "    if min(dist_list) < 6:\n",
    "        df.loc[i, 'label'] = min_idx\n",
    "    else:\n",
    "        df.loc[i, 'label'] = -1\n",
    "df.to_csv('result_32.csv')"
   ]
  },
  {
   "cell_type": "code",
   "execution_count": 12,
   "metadata": {},
   "outputs": [
    {
     "data": {
      "text/plain": [
       "array([ 0,  1,  2,  3,  4, -1], dtype=int64)"
      ]
     },
     "execution_count": 12,
     "metadata": {},
     "output_type": "execute_result"
    }
   ],
   "source": [
    "df['label'].unique()"
   ]
  },
  {
   "cell_type": "code",
   "execution_count": null,
   "metadata": {},
   "outputs": [],
   "source": []
  },
  {
   "cell_type": "code",
   "execution_count": null,
   "metadata": {},
   "outputs": [],
   "source": []
  },
  {
   "cell_type": "code",
   "execution_count": null,
   "metadata": {},
   "outputs": [],
   "source": []
  },
  {
   "cell_type": "code",
   "execution_count": 59,
   "metadata": {},
   "outputs": [
    {
     "name": "stderr",
     "output_type": "stream",
     "text": [
      "C:\\Users\\62707\\Anaconda3\\lib\\site-packages\\IPython\\core\\interactiveshell.py:2785: DtypeWarning: Columns (10) have mixed types. Specify dtype option on import or set low_memory=False.\n",
      "  interactivity=interactivity, compiler=compiler, result=result)\n"
     ]
    },
    {
     "data": {
      "text/html": [
       "<div>\n",
       "<style scoped>\n",
       "    .dataframe tbody tr th:only-of-type {\n",
       "        vertical-align: middle;\n",
       "    }\n",
       "\n",
       "    .dataframe tbody tr th {\n",
       "        vertical-align: top;\n",
       "    }\n",
       "\n",
       "    .dataframe thead th {\n",
       "        text-align: right;\n",
       "    }\n",
       "</style>\n",
       "<table border=\"1\" class=\"dataframe\">\n",
       "  <thead>\n",
       "    <tr style=\"text-align: right;\">\n",
       "      <th></th>\n",
       "      <th>MMSI</th>\n",
       "      <th>BaseDateTime</th>\n",
       "      <th>LAT</th>\n",
       "      <th>LON</th>\n",
       "      <th>SOG</th>\n",
       "      <th>COG</th>\n",
       "      <th>Heading</th>\n",
       "      <th>VesselName</th>\n",
       "      <th>IMO</th>\n",
       "      <th>CallSign</th>\n",
       "      <th>VesselType</th>\n",
       "      <th>Status</th>\n",
       "      <th>Length</th>\n",
       "      <th>Width</th>\n",
       "      <th>Draft</th>\n",
       "      <th>Cargo</th>\n",
       "    </tr>\n",
       "  </thead>\n",
       "  <tbody>\n",
       "    <tr>\n",
       "      <th>0</th>\n",
       "      <td>316013007</td>\n",
       "      <td>2017-01-01T00:01:10</td>\n",
       "      <td>44.23262</td>\n",
       "      <td>-76.47704</td>\n",
       "      <td>-0.1</td>\n",
       "      <td>-49.6</td>\n",
       "      <td>100</td>\n",
       "      <td>WOLFE ISLANDER III</td>\n",
       "      <td>IMO7423079</td>\n",
       "      <td>VA3418</td>\n",
       "      <td>1018</td>\n",
       "      <td>under way using engine</td>\n",
       "      <td>62.49</td>\n",
       "      <td>20.27</td>\n",
       "      <td>2.3</td>\n",
       "      <td>60</td>\n",
       "    </tr>\n",
       "    <tr>\n",
       "      <th>1</th>\n",
       "      <td>316013007</td>\n",
       "      <td>2017-01-01T00:02:17</td>\n",
       "      <td>44.23264</td>\n",
       "      <td>-76.47541</td>\n",
       "      <td>-0.1</td>\n",
       "      <td>-49.6</td>\n",
       "      <td>120</td>\n",
       "      <td>WOLFE ISLANDER III</td>\n",
       "      <td>IMO7423079</td>\n",
       "      <td>VA3418</td>\n",
       "      <td>1018</td>\n",
       "      <td>under way using engine</td>\n",
       "      <td>62.49</td>\n",
       "      <td>20.27</td>\n",
       "      <td>2.3</td>\n",
       "      <td>60</td>\n",
       "    </tr>\n",
       "    <tr>\n",
       "      <th>2</th>\n",
       "      <td>316013007</td>\n",
       "      <td>2017-01-01T00:03:25</td>\n",
       "      <td>44.23064</td>\n",
       "      <td>-76.47384</td>\n",
       "      <td>-0.1</td>\n",
       "      <td>-49.6</td>\n",
       "      <td>172</td>\n",
       "      <td>WOLFE ISLANDER III</td>\n",
       "      <td>IMO7423079</td>\n",
       "      <td>VA3418</td>\n",
       "      <td>1018</td>\n",
       "      <td>under way using engine</td>\n",
       "      <td>62.49</td>\n",
       "      <td>20.27</td>\n",
       "      <td>2.3</td>\n",
       "      <td>60</td>\n",
       "    </tr>\n",
       "    <tr>\n",
       "      <th>3</th>\n",
       "      <td>316013007</td>\n",
       "      <td>2017-01-01T00:04:27</td>\n",
       "      <td>44.22846</td>\n",
       "      <td>-76.47331</td>\n",
       "      <td>-0.1</td>\n",
       "      <td>-49.6</td>\n",
       "      <td>179</td>\n",
       "      <td>WOLFE ISLANDER III</td>\n",
       "      <td>IMO7423079</td>\n",
       "      <td>VA3418</td>\n",
       "      <td>1018</td>\n",
       "      <td>under way using engine</td>\n",
       "      <td>62.49</td>\n",
       "      <td>20.27</td>\n",
       "      <td>2.3</td>\n",
       "      <td>60</td>\n",
       "    </tr>\n",
       "    <tr>\n",
       "      <th>4</th>\n",
       "      <td>316013007</td>\n",
       "      <td>2017-01-01T00:05:38</td>\n",
       "      <td>44.22577</td>\n",
       "      <td>-76.47337</td>\n",
       "      <td>-0.1</td>\n",
       "      <td>-49.6</td>\n",
       "      <td>184</td>\n",
       "      <td>WOLFE ISLANDER III</td>\n",
       "      <td>IMO7423079</td>\n",
       "      <td>VA3418</td>\n",
       "      <td>1018</td>\n",
       "      <td>under way using engine</td>\n",
       "      <td>62.49</td>\n",
       "      <td>20.27</td>\n",
       "      <td>2.3</td>\n",
       "      <td>60</td>\n",
       "    </tr>\n",
       "  </tbody>\n",
       "</table>\n",
       "</div>"
      ],
      "text/plain": [
       "        MMSI         BaseDateTime       LAT       LON  SOG   COG  Heading  \\\n",
       "0  316013007  2017-01-01T00:01:10  44.23262 -76.47704 -0.1 -49.6      100   \n",
       "1  316013007  2017-01-01T00:02:17  44.23264 -76.47541 -0.1 -49.6      120   \n",
       "2  316013007  2017-01-01T00:03:25  44.23064 -76.47384 -0.1 -49.6      172   \n",
       "3  316013007  2017-01-01T00:04:27  44.22846 -76.47331 -0.1 -49.6      179   \n",
       "4  316013007  2017-01-01T00:05:38  44.22577 -76.47337 -0.1 -49.6      184   \n",
       "\n",
       "           VesselName         IMO CallSign VesselType                  Status  \\\n",
       "0  WOLFE ISLANDER III  IMO7423079   VA3418       1018  under way using engine   \n",
       "1  WOLFE ISLANDER III  IMO7423079   VA3418       1018  under way using engine   \n",
       "2  WOLFE ISLANDER III  IMO7423079   VA3418       1018  under way using engine   \n",
       "3  WOLFE ISLANDER III  IMO7423079   VA3418       1018  under way using engine   \n",
       "4  WOLFE ISLANDER III  IMO7423079   VA3418       1018  under way using engine   \n",
       "\n",
       "   Length  Width  Draft  Cargo  \n",
       "0   62.49  20.27    2.3     60  \n",
       "1   62.49  20.27    2.3     60  \n",
       "2   62.49  20.27    2.3     60  \n",
       "3   62.49  20.27    2.3     60  \n",
       "4   62.49  20.27    2.3     60  "
      ]
     },
     "execution_count": 59,
     "metadata": {},
     "output_type": "execute_result"
    }
   ],
   "source": [
    "# #############################################################################\n",
    "# Read data\n",
    "file_url = 'Testing_Data_dup.csv'\n",
    "df = pd.read_csv(file_url)\n",
    "df.head()"
   ]
  },
  {
   "cell_type": "code",
   "execution_count": 60,
   "metadata": {},
   "outputs": [
    {
     "data": {
      "text/plain": [
       "(39891, 16)"
      ]
     },
     "execution_count": 60,
     "metadata": {},
     "output_type": "execute_result"
    }
   ],
   "source": [
    "df.shape"
   ]
  },
  {
   "cell_type": "code",
   "execution_count": 61,
   "metadata": {},
   "outputs": [],
   "source": [
    "df_G_0_Checked_points = pd.read_csv('Noise_df_G_0_Checked_points.csv')\n",
    "df_G_1_Checked_points = pd.read_csv('Noise_df_G_1_Checked_points.csv')\n",
    "df_G_2_Checked_points = pd.read_csv('Noise_df_G_2_Checked_points.csv')\n",
    "df_G_3_Checked_points = pd.read_csv('Noise_df_G_3_Checked_points.csv')\n",
    "df_G_4_Checked_points = pd.read_csv('Noise_df_G_4_Checked_points.csv')"
   ]
  },
  {
   "cell_type": "code",
   "execution_count": 62,
   "metadata": {},
   "outputs": [],
   "source": [
    "five_D_Data_G_0 = df_G_0_Checked_points[[\"LAT\", \"LON\", \"Heading\"]]\n",
    "# five_D_Data_G_0 = StandardScaler().fit_transform(five_D_Data_G_0)\n",
    "five_D_Data_G_0.shape\n",
    "five_D_covMatrix_G_0 = np.cov(five_D_Data_G_0.T,bias=True)\n",
    "I_G_0 = np.matrix(five_D_covMatrix_G_0).I\n",
    "mean_G_0 = five_D_Data_G_0.mean(axis = 0) "
   ]
  },
  {
   "cell_type": "code",
   "execution_count": 63,
   "metadata": {},
   "outputs": [],
   "source": [
    "five_D_Data_G_1 = df_G_1_Checked_points[[\"LAT\", \"LON\", \"Heading\"]]\n",
    "# five_D_Data_G_1 = StandardScaler().fit_transform(five_D_Data_G_1)\n",
    "five_D_Data_G_1.shape\n",
    "five_D_covMatrix_G_1 = np.cov(five_D_Data_G_1.T,bias=True)\n",
    "I_G_1 = np.matrix(five_D_covMatrix_G_1).I\n",
    "mean_G_1 = five_D_Data_G_1.mean(axis = 0) "
   ]
  },
  {
   "cell_type": "code",
   "execution_count": 64,
   "metadata": {},
   "outputs": [],
   "source": [
    "five_D_Data_G_2 = df_G_2_Checked_points[[\"LAT\", \"LON\", \"Heading\"]]\n",
    "# five_D_Data_G_2 = StandardScaler().fit_transform(five_D_Data_G_2)\n",
    "five_D_Data_G_2.shape\n",
    "five_D_covMatrix_G_2 = np.cov(five_D_Data_G_2.T,bias=True)\n",
    "I_G_2 = np.matrix(five_D_covMatrix_G_2).I\n",
    "mean_G_2 = five_D_Data_G_2.mean(axis = 0) "
   ]
  },
  {
   "cell_type": "code",
   "execution_count": 65,
   "metadata": {},
   "outputs": [],
   "source": [
    "five_D_Data_G_3 = df_G_3_Checked_points[[\"LAT\", \"LON\", \"Heading\"]]\n",
    "# five_D_Data_G_3 = StandardScaler().fit_transform(five_D_Data_G_3)\n",
    "five_D_Data_G_3.shape\n",
    "five_D_covMatrix_G_3 = np.cov(five_D_Data_G_3.T,bias=True)\n",
    "I_G_3 = np.matrix(five_D_covMatrix_G_3).I\n",
    "mean_G_3 = five_D_Data_G_3.mean(axis = 0) "
   ]
  },
  {
   "cell_type": "code",
   "execution_count": 66,
   "metadata": {},
   "outputs": [],
   "source": [
    "five_D_Data_G_4 = df_G_4_Checked_points[[\"LAT\", \"LON\", \"Heading\"]]\n",
    "# five_D_Data_G_4 = StandardScaler().fit_transform(five_D_Data_G_4)\n",
    "five_D_Data_G_4.shape\n",
    "five_D_covMatrix_G_4 = np.cov(five_D_Data_G_4.T,bias=True)\n",
    "I_G_4 = np.matrix(five_D_covMatrix_G_4).I\n",
    "mean_G_4 = five_D_Data_G_4.mean(axis = 0) "
   ]
  },
  {
   "cell_type": "code",
   "execution_count": 67,
   "metadata": {},
   "outputs": [],
   "source": [
    "df['label'] = -2\n",
    "for i in range(df.shape[0]):\n",
    "    point = df.iloc[i]\n",
    "    point_five_D = point[[\"LAT\", \"LON\", \"Heading\"]]    \n",
    "    dist_G_0 = np.dot(np.dot((point_five_D - mean_G_0), I_G_0), (point_five_D - mean_G_0).T)[0,0] ** 0.5\n",
    "    dist_G_1 = np.dot(np.dot((point_five_D - mean_G_1), I_G_1), (point_five_D - mean_G_1).T)[0,0] ** 0.5\n",
    "    dist_G_2 = np.dot(np.dot((point_five_D - mean_G_2), I_G_2), (point_five_D - mean_G_2).T)[0,0] ** 0.5\n",
    "    dist_G_3 = np.dot(np.dot((point_five_D - mean_G_3), I_G_3), (point_five_D - mean_G_3).T)[0,0] ** 0.5\n",
    "    dist_G_4 = np.dot(np.dot((point_five_D - mean_G_4), I_G_4), (point_five_D - mean_G_4).T)[0,0] ** 0.5\n",
    "    dist_list = [dist_G_0, dist_G_1, dist_G_2, dist_G_3, dist_G_4]\n",
    "    min_idx = dist_list.index(min(dist_list))\n",
    "    if min(dist_list) < 6:\n",
    "        df.loc[i, 'label'] = min_idx\n",
    "    else:\n",
    "        df.loc[i, 'label'] = -1\n",
    "df.to_csv('result_33.csv')"
   ]
  },
  {
   "cell_type": "code",
   "execution_count": 68,
   "metadata": {},
   "outputs": [
    {
     "data": {
      "text/plain": [
       "array([ 0, -1,  1,  2,  3,  4], dtype=int64)"
      ]
     },
     "execution_count": 68,
     "metadata": {},
     "output_type": "execute_result"
    }
   ],
   "source": [
    "df['label'].unique()"
   ]
  },
  {
   "cell_type": "code",
   "execution_count": null,
   "metadata": {},
   "outputs": [],
   "source": []
  }
 ],
 "metadata": {
  "kernelspec": {
   "display_name": "Python 3",
   "language": "python",
   "name": "python3"
  },
  "language_info": {
   "codemirror_mode": {
    "name": "ipython",
    "version": 3
   },
   "file_extension": ".py",
   "mimetype": "text/x-python",
   "name": "python",
   "nbconvert_exporter": "python",
   "pygments_lexer": "ipython3",
   "version": "3.6.5"
  }
 },
 "nbformat": 4,
 "nbformat_minor": 2
}
