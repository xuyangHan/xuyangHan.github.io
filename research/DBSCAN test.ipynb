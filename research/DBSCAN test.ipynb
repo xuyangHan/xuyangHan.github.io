{
 "cells": [
  {
   "cell_type": "code",
   "execution_count": 1,
   "metadata": {},
   "outputs": [],
   "source": [
    "import numpy as np \n",
    "from sklearn.cluster import DBSCAN\n",
    "from sklearn.preprocessing import StandardScaler\n",
    "import matplotlib\n",
    "import matplotlib.pyplot as plt\n",
    "import pandas as pd\n",
    "import sklearn.utils"
   ]
  },
  {
   "cell_type": "code",
   "execution_count": 2,
   "metadata": {},
   "outputs": [
    {
     "name": "stdout",
     "output_type": "stream",
     "text": [
      "Matplotlib Version 2.2.2\n"
     ]
    }
   ],
   "source": [
    "# Check the Matplotlib Version \n",
    "print (\"Matplotlib Version\", matplotlib.__version__)"
   ]
  },
  {
   "cell_type": "code",
   "execution_count": 3,
   "metadata": {},
   "outputs": [],
   "source": [
    "from sklearn.cluster import DBSCAN\n",
    "from sklearn import metrics\n",
    "from sklearn.datasets import make_blobs\n",
    "from sklearn.preprocessing import StandardScaler"
   ]
  },
  {
   "cell_type": "code",
   "execution_count": 4,
   "metadata": {},
   "outputs": [
    {
     "data": {
      "text/html": [
       "<div>\n",
       "<style scoped>\n",
       "    .dataframe tbody tr th:only-of-type {\n",
       "        vertical-align: middle;\n",
       "    }\n",
       "\n",
       "    .dataframe tbody tr th {\n",
       "        vertical-align: top;\n",
       "    }\n",
       "\n",
       "    .dataframe thead th {\n",
       "        text-align: right;\n",
       "    }\n",
       "</style>\n",
       "<table border=\"1\" class=\"dataframe\">\n",
       "  <thead>\n",
       "    <tr style=\"text-align: right;\">\n",
       "      <th></th>\n",
       "      <th>Unnamed: 0</th>\n",
       "      <th>MMSI</th>\n",
       "      <th>BaseDateTime</th>\n",
       "      <th>LAT</th>\n",
       "      <th>LON</th>\n",
       "      <th>SOG</th>\n",
       "      <th>COG</th>\n",
       "      <th>Heading</th>\n",
       "      <th>VesselName</th>\n",
       "      <th>IMO</th>\n",
       "      <th>CallSign</th>\n",
       "      <th>VesselType</th>\n",
       "      <th>Status</th>\n",
       "      <th>Length</th>\n",
       "      <th>Width</th>\n",
       "      <th>Draft</th>\n",
       "      <th>Cargo</th>\n",
       "      <th>label</th>\n",
       "    </tr>\n",
       "  </thead>\n",
       "  <tbody>\n",
       "    <tr>\n",
       "      <th>0</th>\n",
       "      <td>0</td>\n",
       "      <td>316013007</td>\n",
       "      <td>2017-01-01T00:56:16</td>\n",
       "      <td>44.23262</td>\n",
       "      <td>-76.47705</td>\n",
       "      <td>-0.1</td>\n",
       "      <td>-49.6</td>\n",
       "      <td>101.0</td>\n",
       "      <td>WOLFE ISLANDER III</td>\n",
       "      <td>IMO7423079</td>\n",
       "      <td>VA3418</td>\n",
       "      <td>WOLFE ISLANDER III</td>\n",
       "      <td>under way using engine</td>\n",
       "      <td>62.49</td>\n",
       "      <td>20.27</td>\n",
       "      <td>2.3</td>\n",
       "      <td>60</td>\n",
       "      <td>1</td>\n",
       "    </tr>\n",
       "    <tr>\n",
       "      <th>1</th>\n",
       "      <td>2</td>\n",
       "      <td>316013007</td>\n",
       "      <td>2017-01-01T01:13:57</td>\n",
       "      <td>44.22087</td>\n",
       "      <td>-76.45892</td>\n",
       "      <td>-0.1</td>\n",
       "      <td>-49.6</td>\n",
       "      <td>104.0</td>\n",
       "      <td>WOLFE ISLANDER III</td>\n",
       "      <td>IMO7423079</td>\n",
       "      <td>VA3418</td>\n",
       "      <td>WOLFE ISLANDER III</td>\n",
       "      <td>under way using engine</td>\n",
       "      <td>62.49</td>\n",
       "      <td>20.27</td>\n",
       "      <td>2.3</td>\n",
       "      <td>60</td>\n",
       "      <td>1</td>\n",
       "    </tr>\n",
       "    <tr>\n",
       "      <th>2</th>\n",
       "      <td>3</td>\n",
       "      <td>316013007</td>\n",
       "      <td>2017-01-01T01:13:57</td>\n",
       "      <td>44.22535</td>\n",
       "      <td>-76.45320</td>\n",
       "      <td>-0.1</td>\n",
       "      <td>-49.6</td>\n",
       "      <td>194.0</td>\n",
       "      <td>WOLFE ISLANDER III</td>\n",
       "      <td>IMO7423079</td>\n",
       "      <td>VA3418</td>\n",
       "      <td>WOLFE ISLANDER III</td>\n",
       "      <td>under way using engine</td>\n",
       "      <td>62.49</td>\n",
       "      <td>20.27</td>\n",
       "      <td>2.3</td>\n",
       "      <td>60</td>\n",
       "      <td>-1</td>\n",
       "    </tr>\n",
       "    <tr>\n",
       "      <th>3</th>\n",
       "      <td>4</td>\n",
       "      <td>316013007</td>\n",
       "      <td>2017-01-01T03:38:21</td>\n",
       "      <td>44.21534</td>\n",
       "      <td>-76.42604</td>\n",
       "      <td>-0.1</td>\n",
       "      <td>-49.6</td>\n",
       "      <td>115.0</td>\n",
       "      <td>WOLFE ISLANDER III</td>\n",
       "      <td>IMO7423079</td>\n",
       "      <td>VA3418</td>\n",
       "      <td>WOLFE ISLANDER III</td>\n",
       "      <td>under way using engine</td>\n",
       "      <td>62.49</td>\n",
       "      <td>20.27</td>\n",
       "      <td>2.3</td>\n",
       "      <td>60</td>\n",
       "      <td>1</td>\n",
       "    </tr>\n",
       "    <tr>\n",
       "      <th>4</th>\n",
       "      <td>5</td>\n",
       "      <td>316013007</td>\n",
       "      <td>2017-01-01T03:38:21</td>\n",
       "      <td>44.19247</td>\n",
       "      <td>-76.45873</td>\n",
       "      <td>-0.1</td>\n",
       "      <td>-49.6</td>\n",
       "      <td>205.0</td>\n",
       "      <td>WOLFE ISLANDER III</td>\n",
       "      <td>IMO7423079</td>\n",
       "      <td>VA3418</td>\n",
       "      <td>WOLFE ISLANDER III</td>\n",
       "      <td>under way using engine</td>\n",
       "      <td>62.49</td>\n",
       "      <td>20.27</td>\n",
       "      <td>2.3</td>\n",
       "      <td>60</td>\n",
       "      <td>-1</td>\n",
       "    </tr>\n",
       "  </tbody>\n",
       "</table>\n",
       "</div>"
      ],
      "text/plain": [
       "   Unnamed: 0       MMSI         BaseDateTime       LAT       LON  SOG   COG  \\\n",
       "0           0  316013007  2017-01-01T00:56:16  44.23262 -76.47705 -0.1 -49.6   \n",
       "1           2  316013007  2017-01-01T01:13:57  44.22087 -76.45892 -0.1 -49.6   \n",
       "2           3  316013007  2017-01-01T01:13:57  44.22535 -76.45320 -0.1 -49.6   \n",
       "3           4  316013007  2017-01-01T03:38:21  44.21534 -76.42604 -0.1 -49.6   \n",
       "4           5  316013007  2017-01-01T03:38:21  44.19247 -76.45873 -0.1 -49.6   \n",
       "\n",
       "   Heading          VesselName         IMO CallSign          VesselType  \\\n",
       "0    101.0  WOLFE ISLANDER III  IMO7423079   VA3418  WOLFE ISLANDER III   \n",
       "1    104.0  WOLFE ISLANDER III  IMO7423079   VA3418  WOLFE ISLANDER III   \n",
       "2    194.0  WOLFE ISLANDER III  IMO7423079   VA3418  WOLFE ISLANDER III   \n",
       "3    115.0  WOLFE ISLANDER III  IMO7423079   VA3418  WOLFE ISLANDER III   \n",
       "4    205.0  WOLFE ISLANDER III  IMO7423079   VA3418  WOLFE ISLANDER III   \n",
       "\n",
       "                   Status  Length  Width  Draft  Cargo  label  \n",
       "0  under way using engine   62.49  20.27    2.3     60      1  \n",
       "1  under way using engine   62.49  20.27    2.3     60      1  \n",
       "2  under way using engine   62.49  20.27    2.3     60     -1  \n",
       "3  under way using engine   62.49  20.27    2.3     60      1  \n",
       "4  under way using engine   62.49  20.27    2.3     60     -1  "
      ]
     },
     "execution_count": 4,
     "metadata": {},
     "output_type": "execute_result"
    }
   ],
   "source": [
    "# #############################################################################\n",
    "# Read data\n",
    "file_url = 'rotated_filtered_2.csv'\n",
    "df = pd.read_csv(file_url)\n",
    "df.head()"
   ]
  },
  {
   "cell_type": "code",
   "execution_count": 5,
   "metadata": {},
   "outputs": [
    {
     "data": {
      "text/plain": [
       "(1598, 2)"
      ]
     },
     "execution_count": 5,
     "metadata": {},
     "output_type": "execute_result"
    }
   ],
   "source": [
    "two_D_Data = df[[\"LAT\", \"LON\"]]\n",
    "two_D_Data = StandardScaler().fit_transform(two_D_Data)\n",
    "two_D_Data.shape"
   ]
  },
  {
   "cell_type": "code",
   "execution_count": 6,
   "metadata": {},
   "outputs": [
    {
     "data": {
      "text/plain": [
       "(1598, 5)"
      ]
     },
     "execution_count": 6,
     "metadata": {},
     "output_type": "execute_result"
    }
   ],
   "source": [
    "five_D_Data = df[[\"LAT\", \"LON\", \"SOG\", \"COG\", \"Heading\"]]\n",
    "five_D_Data = StandardScaler().fit_transform(five_D_Data)\n",
    "five_D_Data.shape"
   ]
  },
  {
   "cell_type": "code",
   "execution_count": 7,
   "metadata": {},
   "outputs": [],
   "source": [
    "# #############################################################################\n",
    "# Compute DBSCAN 2D\n",
    "db2 = DBSCAN(eps=0.2, min_samples=30).fit(two_D_Data)\n",
    "core_samples_mask = np.zeros_like(db2.labels_, dtype=bool)\n",
    "core_samples_mask[db2.core_sample_indices_] = True\n",
    "labels2 = db2.labels_"
   ]
  },
  {
   "cell_type": "code",
   "execution_count": 8,
   "metadata": {},
   "outputs": [
    {
     "data": {
      "image/png": "[encoded data removed]",
      "text/plain": [
       "<Figure size 432x288 with 1 Axes>"
      ]
     },
     "metadata": {},
     "output_type": "display_data"
    }
   ],
   "source": [
    "# Black removed and is used for noise instead.\n",
    "unique_labels = set(labels2)\n",
    "colors = [plt.cm.Spectral(each)\n",
    "          for each in np.linspace(0, 1, len(unique_labels))]\n",
    "for k, col in zip(unique_labels, colors):\n",
    "    if k == -1:\n",
    "        # Black used for noise.\n",
    "        col = [0, 0, 0, 1]\n",
    "\n",
    "    class_member_mask = (labels2 == k)\n",
    "\n",
    "    xy = two_D_Data[class_member_mask & core_samples_mask]\n",
    "    plt.plot(xy[:, 0], xy[:, 1], 'o', markerfacecolor=tuple(col),\n",
    "             markeredgecolor='k', markersize=8, alpha=0.7)\n",
    "\n",
    "    xy = two_D_Data[class_member_mask & ~core_samples_mask]\n",
    "    plt.plot(xy[:, 0], xy[:, 1], 'o', markerfacecolor=tuple(col),\n",
    "             markeredgecolor='k', markersize=3, alpha=0.7)\n",
    "\n",
    "plt.show()"
   ]
  },
  {
   "cell_type": "code",
   "execution_count": 9,
   "metadata": {},
   "outputs": [],
   "source": [
    "# #############################################################################\n",
    "# Compute DBSCAN 5D\n",
    "db5 = DBSCAN(eps=0.2, min_samples=30).fit(five_D_Data)\n",
    "core_samples_mask = np.zeros_like(db5.labels_, dtype=bool)\n",
    "core_samples_mask[db5.core_sample_indices_] = True\n",
    "labels5 = db5.labels_"
   ]
  },
  {
   "cell_type": "code",
   "execution_count": 10,
   "metadata": {},
   "outputs": [
    {
     "data": {
      "image/png": "[encoded data removed]",
      "text/plain": [
       "<Figure size 432x288 with 1 Axes>"
      ]
     },
     "metadata": {},
     "output_type": "display_data"
    }
   ],
   "source": [
    "# Black removed and is used for noise instead.\n",
    "unique_labels = set(labels5)\n",
    "colors = [plt.cm.Spectral(each)\n",
    "          for each in np.linspace(0, 1, len(unique_labels))]\n",
    "for k, col in zip(unique_labels, colors):\n",
    "    if k == -1:\n",
    "        # Black used for noise.\n",
    "        col = [0, 0, 0, 1]\n",
    "\n",
    "    class_member_mask = (labels5 == k)\n",
    "\n",
    "    xy = five_D_Data[class_member_mask & core_samples_mask]\n",
    "    plt.plot(xy[:, 0], xy[:, 1], 'o', markerfacecolor=tuple(col),\n",
    "             markeredgecolor='k', markersize=8, alpha=0.7)\n",
    "\n",
    "    xy = five_D_Data[class_member_mask & ~core_samples_mask]\n",
    "    plt.plot(xy[:, 0], xy[:, 1], 'o', markerfacecolor=tuple(col),\n",
    "             markeredgecolor='k', markersize=3, alpha=0.7)\n",
    "\n",
    "plt.show()"
   ]
  },
  {
   "cell_type": "code",
   "execution_count": 11,
   "metadata": {},
   "outputs": [],
   "source": [
    "df['label'] = labels2\n",
    "df.to_csv('result1.csv')"
   ]
  },
  {
   "cell_type": "code",
   "execution_count": 12,
   "metadata": {},
   "outputs": [],
   "source": [
    "df['label'] = labels5\n",
    "df.to_csv('result2.csv')"
   ]
  },
  {
   "cell_type": "code",
   "execution_count": null,
   "metadata": {},
   "outputs": [],
   "source": []
  },
  {
   "cell_type": "code",
   "execution_count": null,
   "metadata": {},
   "outputs": [],
   "source": []
  },
  {
   "cell_type": "code",
   "execution_count": 302,
   "metadata": {},
   "outputs": [
    {
     "name": "stderr",
     "output_type": "stream",
     "text": [
      "C:\\Users\\62707\\Anaconda3\\lib\\site-packages\\IPython\\core\\interactiveshell.py:2785: DtypeWarning: Columns (10) have mixed types. Specify dtype option on import or set low_memory=False.\n",
      "  interactivity=interactivity, compiler=compiler, result=result)\n"
     ]
    },
    {
     "data": {
      "text/html": [
       "<div>\n",
       "<style scoped>\n",
       "    .dataframe tbody tr th:only-of-type {\n",
       "        vertical-align: middle;\n",
       "    }\n",
       "\n",
       "    .dataframe tbody tr th {\n",
       "        vertical-align: top;\n",
       "    }\n",
       "\n",
       "    .dataframe thead th {\n",
       "        text-align: right;\n",
       "    }\n",
       "</style>\n",
       "<table border=\"1\" class=\"dataframe\">\n",
       "  <thead>\n",
       "    <tr style=\"text-align: right;\">\n",
       "      <th></th>\n",
       "      <th>MMSI</th>\n",
       "      <th>BaseDateTime</th>\n",
       "      <th>LAT</th>\n",
       "      <th>LON</th>\n",
       "      <th>SOG</th>\n",
       "      <th>COG</th>\n",
       "      <th>Heading</th>\n",
       "      <th>VesselName</th>\n",
       "      <th>IMO</th>\n",
       "      <th>CallSign</th>\n",
       "      <th>VesselType</th>\n",
       "      <th>Status</th>\n",
       "      <th>Length</th>\n",
       "      <th>Width</th>\n",
       "      <th>Draft</th>\n",
       "      <th>Cargo</th>\n",
       "    </tr>\n",
       "  </thead>\n",
       "  <tbody>\n",
       "    <tr>\n",
       "      <th>0</th>\n",
       "      <td>316013007</td>\n",
       "      <td>2017-01-01T00:01:10</td>\n",
       "      <td>44.23262</td>\n",
       "      <td>-76.47704</td>\n",
       "      <td>-0.1</td>\n",
       "      <td>-49.6</td>\n",
       "      <td>100</td>\n",
       "      <td>WOLFE ISLANDER III</td>\n",
       "      <td>IMO7423079</td>\n",
       "      <td>VA3418</td>\n",
       "      <td>1018</td>\n",
       "      <td>under way using engine</td>\n",
       "      <td>62.49</td>\n",
       "      <td>20.27</td>\n",
       "      <td>2.3</td>\n",
       "      <td>60</td>\n",
       "    </tr>\n",
       "    <tr>\n",
       "      <th>1</th>\n",
       "      <td>316013007</td>\n",
       "      <td>2017-01-01T00:02:17</td>\n",
       "      <td>44.23264</td>\n",
       "      <td>-76.47541</td>\n",
       "      <td>-0.1</td>\n",
       "      <td>-49.6</td>\n",
       "      <td>120</td>\n",
       "      <td>WOLFE ISLANDER III</td>\n",
       "      <td>IMO7423079</td>\n",
       "      <td>VA3418</td>\n",
       "      <td>1018</td>\n",
       "      <td>under way using engine</td>\n",
       "      <td>62.49</td>\n",
       "      <td>20.27</td>\n",
       "      <td>2.3</td>\n",
       "      <td>60</td>\n",
       "    </tr>\n",
       "    <tr>\n",
       "      <th>2</th>\n",
       "      <td>316013007</td>\n",
       "      <td>2017-01-01T00:03:25</td>\n",
       "      <td>44.23064</td>\n",
       "      <td>-76.47384</td>\n",
       "      <td>-0.1</td>\n",
       "      <td>-49.6</td>\n",
       "      <td>172</td>\n",
       "      <td>WOLFE ISLANDER III</td>\n",
       "      <td>IMO7423079</td>\n",
       "      <td>VA3418</td>\n",
       "      <td>1018</td>\n",
       "      <td>under way using engine</td>\n",
       "      <td>62.49</td>\n",
       "      <td>20.27</td>\n",
       "      <td>2.3</td>\n",
       "      <td>60</td>\n",
       "    </tr>\n",
       "    <tr>\n",
       "      <th>3</th>\n",
       "      <td>316013007</td>\n",
       "      <td>2017-01-01T00:04:27</td>\n",
       "      <td>44.22846</td>\n",
       "      <td>-76.47331</td>\n",
       "      <td>-0.1</td>\n",
       "      <td>-49.6</td>\n",
       "      <td>179</td>\n",
       "      <td>WOLFE ISLANDER III</td>\n",
       "      <td>IMO7423079</td>\n",
       "      <td>VA3418</td>\n",
       "      <td>1018</td>\n",
       "      <td>under way using engine</td>\n",
       "      <td>62.49</td>\n",
       "      <td>20.27</td>\n",
       "      <td>2.3</td>\n",
       "      <td>60</td>\n",
       "    </tr>\n",
       "    <tr>\n",
       "      <th>4</th>\n",
       "      <td>316013007</td>\n",
       "      <td>2017-01-01T00:05:38</td>\n",
       "      <td>44.22577</td>\n",
       "      <td>-76.47337</td>\n",
       "      <td>-0.1</td>\n",
       "      <td>-49.6</td>\n",
       "      <td>184</td>\n",
       "      <td>WOLFE ISLANDER III</td>\n",
       "      <td>IMO7423079</td>\n",
       "      <td>VA3418</td>\n",
       "      <td>1018</td>\n",
       "      <td>under way using engine</td>\n",
       "      <td>62.49</td>\n",
       "      <td>20.27</td>\n",
       "      <td>2.3</td>\n",
       "      <td>60</td>\n",
       "    </tr>\n",
       "  </tbody>\n",
       "</table>\n",
       "</div>"
      ],
      "text/plain": [
       "        MMSI         BaseDateTime       LAT       LON  SOG   COG  Heading  \\\n",
       "0  316013007  2017-01-01T00:01:10  44.23262 -76.47704 -0.1 -49.6      100   \n",
       "1  316013007  2017-01-01T00:02:17  44.23264 -76.47541 -0.1 -49.6      120   \n",
       "2  316013007  2017-01-01T00:03:25  44.23064 -76.47384 -0.1 -49.6      172   \n",
       "3  316013007  2017-01-01T00:04:27  44.22846 -76.47331 -0.1 -49.6      179   \n",
       "4  316013007  2017-01-01T00:05:38  44.22577 -76.47337 -0.1 -49.6      184   \n",
       "\n",
       "           VesselName         IMO CallSign VesselType                  Status  \\\n",
       "0  WOLFE ISLANDER III  IMO7423079   VA3418       1018  under way using engine   \n",
       "1  WOLFE ISLANDER III  IMO7423079   VA3418       1018  under way using engine   \n",
       "2  WOLFE ISLANDER III  IMO7423079   VA3418       1018  under way using engine   \n",
       "3  WOLFE ISLANDER III  IMO7423079   VA3418       1018  under way using engine   \n",
       "4  WOLFE ISLANDER III  IMO7423079   VA3418       1018  under way using engine   \n",
       "\n",
       "   Length  Width  Draft  Cargo  \n",
       "0   62.49  20.27    2.3     60  \n",
       "1   62.49  20.27    2.3     60  \n",
       "2   62.49  20.27    2.3     60  \n",
       "3   62.49  20.27    2.3     60  \n",
       "4   62.49  20.27    2.3     60  "
      ]
     },
     "execution_count": 302,
     "metadata": {},
     "output_type": "execute_result"
    }
   ],
   "source": [
    "# #############################################################################\n",
    "# Read data\n",
    "file_url = 'Testing_Data_dup.csv'\n",
    "df = pd.read_csv(file_url)\n",
    "df.head()"
   ]
  },
  {
   "cell_type": "code",
   "execution_count": 259,
   "metadata": {},
   "outputs": [
    {
     "data": {
      "text/plain": [
       "(39891, 2)"
      ]
     },
     "execution_count": 259,
     "metadata": {},
     "output_type": "execute_result"
    }
   ],
   "source": [
    "two_D_Data = df[[\"LAT\", \"LON\"]]\n",
    "two_D_Data = StandardScaler().fit_transform(two_D_Data)\n",
    "two_D_Data.shape"
   ]
  },
  {
   "cell_type": "code",
   "execution_count": 260,
   "metadata": {},
   "outputs": [],
   "source": [
    "# #############################################################################\n",
    "# Compute DBSCAN 2D\n",
    "db2 = DBSCAN(eps=0.1, min_samples=40).fit(two_D_Data)\n",
    "core_samples_mask = np.zeros_like(db2.labels_, dtype=bool)\n",
    "core_samples_mask[db2.core_sample_indices_] = True\n",
    "labels2 = db2.labels_"
   ]
  },
  {
   "cell_type": "code",
   "execution_count": 261,
   "metadata": {},
   "outputs": [
    {
     "data": {
      "image/png": "[encoded data removed]",
      "text/plain": [
       "<Figure size 432x288 with 1 Axes>"
      ]
     },
     "metadata": {},
     "output_type": "display_data"
    }
   ],
   "source": [
    "# Black removed and is used for noise instead.\n",
    "unique_labels = set(labels2)\n",
    "colors = [plt.cm.Spectral(each)\n",
    "          for each in np.linspace(0, 1, len(unique_labels))]\n",
    "for k, col in zip(unique_labels, colors):\n",
    "    if k == -1:\n",
    "        # Black used for noise.\n",
    "        col = [0, 0, 0, 1]\n",
    "\n",
    "    class_member_mask = (labels2 == k)\n",
    "\n",
    "    xy = two_D_Data[class_member_mask & core_samples_mask]\n",
    "    plt.plot(xy[:, 0], xy[:, 1], 'o', markerfacecolor=tuple(col),\n",
    "             markeredgecolor='k', markersize=8, alpha=0.7)\n",
    "\n",
    "    xy = two_D_Data[class_member_mask & ~core_samples_mask]\n",
    "    plt.plot(xy[:, 0], xy[:, 1], 'o', markerfacecolor=tuple(col),\n",
    "             markeredgecolor='k', markersize=3, alpha=0.7)\n",
    "\n",
    "plt.show()"
   ]
  },
  {
   "cell_type": "code",
   "execution_count": 303,
   "metadata": {},
   "outputs": [
    {
     "data": {
      "text/plain": [
       "(39891, 5)"
      ]
     },
     "execution_count": 303,
     "metadata": {},
     "output_type": "execute_result"
    }
   ],
   "source": [
    "five_D_Data = df[[\"LAT\", \"LON\", \"SOG\", \"COG\", \"Heading\"]]\n",
    "five_D_Data = StandardScaler().fit_transform(five_D_Data)\n",
    "five_D_Data.shape"
   ]
  },
  {
   "cell_type": "code",
   "execution_count": 304,
   "metadata": {},
   "outputs": [],
   "source": [
    "# #############################################################################\n",
    "# Compute DBSCAN 5D\n",
    "db5 = DBSCAN(eps=0.1, min_samples=40).fit(five_D_Data)\n",
    "core_samples_mask = np.zeros_like(db5.labels_, dtype=bool)\n",
    "core_samples_mask[db5.core_sample_indices_] = True\n",
    "labels5 = db5.labels_"
   ]
  },
  {
   "cell_type": "code",
   "execution_count": 305,
   "metadata": {},
   "outputs": [
    {
     "data": {
      "image/png": "[encoded data removed]",
      "text/plain": [
       "<Figure size 432x288 with 1 Axes>"
      ]
     },
     "metadata": {},
     "output_type": "display_data"
    }
   ],
   "source": [
    "# Black removed and is used for noise instead.\n",
    "unique_labels = set(labels5)\n",
    "colors = [plt.cm.Spectral(each)\n",
    "          for each in np.linspace(0, 1, len(unique_labels))]\n",
    "for k, col in zip(unique_labels, colors):\n",
    "    if k == -1:\n",
    "        # Black used for noise.\n",
    "        col = [0, 0, 0, 1]\n",
    "\n",
    "    class_member_mask = (labels5 == k)\n",
    "\n",
    "    xy = five_D_Data[class_member_mask & core_samples_mask]\n",
    "    plt.plot(xy[:, 0], xy[:, 1], 'o', markerfacecolor=tuple(col),\n",
    "             markeredgecolor='k', markersize=8, alpha=0.7)\n",
    "\n",
    "    xy = five_D_Data[class_member_mask & ~core_samples_mask]\n",
    "    plt.plot(xy[:, 0], xy[:, 1], 'o', markerfacecolor=tuple(col),\n",
    "             markeredgecolor='k', markersize=2, alpha=0.2)\n",
    "\n",
    "plt.show()"
   ]
  },
  {
   "cell_type": "code",
   "execution_count": null,
   "metadata": {},
   "outputs": [],
   "source": []
  },
  {
   "cell_type": "code",
   "execution_count": 306,
   "metadata": {},
   "outputs": [],
   "source": [
    "df['label'] = labels5"
   ]
  },
  {
   "cell_type": "code",
   "execution_count": 307,
   "metadata": {},
   "outputs": [
    {
     "data": {
      "text/html": [
       "<div>\n",
       "<style scoped>\n",
       "    .dataframe tbody tr th:only-of-type {\n",
       "        vertical-align: middle;\n",
       "    }\n",
       "\n",
       "    .dataframe tbody tr th {\n",
       "        vertical-align: top;\n",
       "    }\n",
       "\n",
       "    .dataframe thead th {\n",
       "        text-align: right;\n",
       "    }\n",
       "</style>\n",
       "<table border=\"1\" class=\"dataframe\">\n",
       "  <thead>\n",
       "    <tr style=\"text-align: right;\">\n",
       "      <th></th>\n",
       "      <th>MMSI</th>\n",
       "      <th>BaseDateTime</th>\n",
       "      <th>LAT</th>\n",
       "      <th>LON</th>\n",
       "      <th>SOG</th>\n",
       "      <th>COG</th>\n",
       "      <th>Heading</th>\n",
       "      <th>VesselName</th>\n",
       "      <th>IMO</th>\n",
       "      <th>CallSign</th>\n",
       "      <th>VesselType</th>\n",
       "      <th>Status</th>\n",
       "      <th>Length</th>\n",
       "      <th>Width</th>\n",
       "      <th>Draft</th>\n",
       "      <th>Cargo</th>\n",
       "      <th>label</th>\n",
       "    </tr>\n",
       "  </thead>\n",
       "  <tbody>\n",
       "    <tr>\n",
       "      <th>0</th>\n",
       "      <td>316013007</td>\n",
       "      <td>2017-01-01T00:01:10</td>\n",
       "      <td>44.23262</td>\n",
       "      <td>-76.47704</td>\n",
       "      <td>-0.1</td>\n",
       "      <td>-49.6</td>\n",
       "      <td>100</td>\n",
       "      <td>WOLFE ISLANDER III</td>\n",
       "      <td>IMO7423079</td>\n",
       "      <td>VA3418</td>\n",
       "      <td>1018</td>\n",
       "      <td>under way using engine</td>\n",
       "      <td>62.49</td>\n",
       "      <td>20.27</td>\n",
       "      <td>2.3</td>\n",
       "      <td>60</td>\n",
       "      <td>0</td>\n",
       "    </tr>\n",
       "    <tr>\n",
       "      <th>1</th>\n",
       "      <td>316013007</td>\n",
       "      <td>2017-01-01T00:02:17</td>\n",
       "      <td>44.23264</td>\n",
       "      <td>-76.47541</td>\n",
       "      <td>-0.1</td>\n",
       "      <td>-49.6</td>\n",
       "      <td>120</td>\n",
       "      <td>WOLFE ISLANDER III</td>\n",
       "      <td>IMO7423079</td>\n",
       "      <td>VA3418</td>\n",
       "      <td>1018</td>\n",
       "      <td>under way using engine</td>\n",
       "      <td>62.49</td>\n",
       "      <td>20.27</td>\n",
       "      <td>2.3</td>\n",
       "      <td>60</td>\n",
       "      <td>-1</td>\n",
       "    </tr>\n",
       "    <tr>\n",
       "      <th>2</th>\n",
       "      <td>316013007</td>\n",
       "      <td>2017-01-01T00:03:25</td>\n",
       "      <td>44.23064</td>\n",
       "      <td>-76.47384</td>\n",
       "      <td>-0.1</td>\n",
       "      <td>-49.6</td>\n",
       "      <td>172</td>\n",
       "      <td>WOLFE ISLANDER III</td>\n",
       "      <td>IMO7423079</td>\n",
       "      <td>VA3418</td>\n",
       "      <td>1018</td>\n",
       "      <td>under way using engine</td>\n",
       "      <td>62.49</td>\n",
       "      <td>20.27</td>\n",
       "      <td>2.3</td>\n",
       "      <td>60</td>\n",
       "      <td>1</td>\n",
       "    </tr>\n",
       "    <tr>\n",
       "      <th>3</th>\n",
       "      <td>316013007</td>\n",
       "      <td>2017-01-01T00:04:27</td>\n",
       "      <td>44.22846</td>\n",
       "      <td>-76.47331</td>\n",
       "      <td>-0.1</td>\n",
       "      <td>-49.6</td>\n",
       "      <td>179</td>\n",
       "      <td>WOLFE ISLANDER III</td>\n",
       "      <td>IMO7423079</td>\n",
       "      <td>VA3418</td>\n",
       "      <td>1018</td>\n",
       "      <td>under way using engine</td>\n",
       "      <td>62.49</td>\n",
       "      <td>20.27</td>\n",
       "      <td>2.3</td>\n",
       "      <td>60</td>\n",
       "      <td>1</td>\n",
       "    </tr>\n",
       "    <tr>\n",
       "      <th>4</th>\n",
       "      <td>316013007</td>\n",
       "      <td>2017-01-01T00:05:38</td>\n",
       "      <td>44.22577</td>\n",
       "      <td>-76.47337</td>\n",
       "      <td>-0.1</td>\n",
       "      <td>-49.6</td>\n",
       "      <td>184</td>\n",
       "      <td>WOLFE ISLANDER III</td>\n",
       "      <td>IMO7423079</td>\n",
       "      <td>VA3418</td>\n",
       "      <td>1018</td>\n",
       "      <td>under way using engine</td>\n",
       "      <td>62.49</td>\n",
       "      <td>20.27</td>\n",
       "      <td>2.3</td>\n",
       "      <td>60</td>\n",
       "      <td>-1</td>\n",
       "    </tr>\n",
       "  </tbody>\n",
       "</table>\n",
       "</div>"
      ],
      "text/plain": [
       "        MMSI         BaseDateTime       LAT       LON  SOG   COG  Heading  \\\n",
       "0  316013007  2017-01-01T00:01:10  44.23262 -76.47704 -0.1 -49.6      100   \n",
       "1  316013007  2017-01-01T00:02:17  44.23264 -76.47541 -0.1 -49.6      120   \n",
       "2  316013007  2017-01-01T00:03:25  44.23064 -76.47384 -0.1 -49.6      172   \n",
       "3  316013007  2017-01-01T00:04:27  44.22846 -76.47331 -0.1 -49.6      179   \n",
       "4  316013007  2017-01-01T00:05:38  44.22577 -76.47337 -0.1 -49.6      184   \n",
       "\n",
       "           VesselName         IMO CallSign VesselType                  Status  \\\n",
       "0  WOLFE ISLANDER III  IMO7423079   VA3418       1018  under way using engine   \n",
       "1  WOLFE ISLANDER III  IMO7423079   VA3418       1018  under way using engine   \n",
       "2  WOLFE ISLANDER III  IMO7423079   VA3418       1018  under way using engine   \n",
       "3  WOLFE ISLANDER III  IMO7423079   VA3418       1018  under way using engine   \n",
       "4  WOLFE ISLANDER III  IMO7423079   VA3418       1018  under way using engine   \n",
       "\n",
       "   Length  Width  Draft  Cargo  label  \n",
       "0   62.49  20.27    2.3     60      0  \n",
       "1   62.49  20.27    2.3     60     -1  \n",
       "2   62.49  20.27    2.3     60      1  \n",
       "3   62.49  20.27    2.3     60      1  \n",
       "4   62.49  20.27    2.3     60     -1  "
      ]
     },
     "execution_count": 307,
     "metadata": {},
     "output_type": "execute_result"
    }
   ],
   "source": [
    "df.head()"
   ]
  },
  {
   "cell_type": "code",
   "execution_count": 308,
   "metadata": {},
   "outputs": [],
   "source": [
    "df.to_csv('result4.csv')"
   ]
  },
  {
   "cell_type": "code",
   "execution_count": null,
   "metadata": {
    "scrolled": true
   },
   "outputs": [],
   "source": []
  },
  {
   "cell_type": "code",
   "execution_count": null,
   "metadata": {},
   "outputs": [],
   "source": []
  },
  {
   "cell_type": "code",
   "execution_count": 2,
   "metadata": {},
   "outputs": [],
   "source": [
    "# #############################################################################\n",
    "# Read data\n",
    "file_url = 'rotated.csv'\n",
    "df = pd.read_csv(file_url)"
   ]
  },
  {
   "cell_type": "code",
   "execution_count": 3,
   "metadata": {},
   "outputs": [],
   "source": [
    "df = df[df['LAT']<=44.234]"
   ]
  },
  {
   "cell_type": "code",
   "execution_count": 4,
   "metadata": {},
   "outputs": [],
   "source": [
    "df.to_csv('rotated_filtered.csv')"
   ]
  },
  {
   "cell_type": "code",
   "execution_count": null,
   "metadata": {},
   "outputs": [],
   "source": []
  }
 ],
 "metadata": {
  "kernelspec": {
   "display_name": "Python 3",
   "language": "python",
   "name": "python3"
  },
  "language_info": {
   "codemirror_mode": {
    "name": "ipython",
    "version": 3
   },
   "file_extension": ".py",
   "mimetype": "text/x-python",
   "name": "python",
   "nbconvert_exporter": "python",
   "pygments_lexer": "ipython3",
   "version": "3.6.5"
  }
 },
 "nbformat": 4,
 "nbformat_minor": 2
}
